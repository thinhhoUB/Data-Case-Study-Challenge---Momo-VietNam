{
  "cells": [
    {
      "cell_type": "markdown",
      "metadata": {
        "id": "view-in-github",
        "colab_type": "text"
      },
      "source": [
        "<a href=\"https://colab.research.google.com/github/thinhhoUB/Data-Case-Study-Challenge---Momo-VietNam/blob/main/2022_Case_Challenge.ipynb\" target=\"_parent\"><img src=\"https://colab.research.google.com/assets/colab-badge.svg\" alt=\"Open In Colab\"/></a>"
      ]
    },
    {
      "cell_type": "markdown",
      "id": "1a3cbe19",
      "metadata": {
        "id": "1a3cbe19"
      },
      "source": [
        "# 2022 Case challenge :"
      ]
    },
    {
      "cell_type": "markdown",
      "id": "80135508",
      "metadata": {
        "id": "80135508"
      },
      "source": [
        "Users' retentention has always been one of the key targets that Momo is striving to be better. A Loyalty program called \"Momo hoàn tiền\" ,one of the projects aiming to achieve such goal, was launched on January 1st 2021.\n",
        "\n",
        "We will explore some insights about this program:"
      ]
    },
    {
      "cell_type": "code",
      "execution_count": null,
      "id": "fd2340a0",
      "metadata": {
        "id": "fd2340a0"
      },
      "outputs": [],
      "source": [
        "#some library for manipulating and visualizing data\n",
        "import pandas as pd\n",
        "import numpy as sns\n",
        "import matplotlib.pyplot as plt\n",
        "import seaborn as sns"
      ]
    },
    {
      "cell_type": "markdown",
      "id": "e5fb2134",
      "metadata": {
        "id": "e5fb2134"
      },
      "source": [
        "Here, I download as **csv file** and read by pandas library\n",
        "\n",
        "Loading all the datasets:"
      ]
    },
    {
      "cell_type": "code",
      "execution_count": null,
      "id": "3a325ea0",
      "metadata": {
        "id": "3a325ea0"
      },
      "outputs": [],
      "source": [
        "transaction=pd.read_csv('2022 Case challenge_ DA update.xlsx - Data. Transactions.csv')\n",
        "points=pd.read_csv('2022 Case challenge_ DA update.xlsx - Data. Loyalty Points.csv')\n",
        "merchant=pd.read_csv('2022 Case challenge_ DA update.xlsx - Data.Merchant.csv')\n",
        "benefit=pd.read_csv('2022 Case challenge_ DA update.xlsx - Data. Loyalty benefits.csv')"
      ]
    },
    {
      "cell_type": "markdown",
      "id": "0e17566e",
      "metadata": {
        "id": "0e17566e"
      },
      "source": [
        "# Data processing"
      ]
    },
    {
      "cell_type": "markdown",
      "id": "a27e5a2f",
      "metadata": {
        "id": "a27e5a2f"
      },
      "source": [
        "#### 1) Combined with the 'Loyalty Points' table, add a column 'Loyalty Points' in 'Transactions' table with given rules. Then create another table named 'Loyalty Ranking' which must includes columns named Rank_name and Calculated_points to calculate the Rank of each user on daily basic. At the end of Mar 2022, how many user achieved rank Gold?\t\t\t\t\t\t\t\t\t\t\t\t\t\t\t\t\t\n",
        "\t\t\t\t\t\t\t\t\t\t\t\t\t\t\t\t\t"
      ]
    },
    {
      "cell_type": "code",
      "execution_count": null,
      "id": "96b709f8",
      "metadata": {
        "id": "96b709f8",
        "outputId": "229d2379-750f-45e0-8dce-4715a7621652"
      },
      "outputs": [
        {
          "data": {
            "text/html": [
              "<div>\n",
              "<style scoped>\n",
              "    .dataframe tbody tr th:only-of-type {\n",
              "        vertical-align: middle;\n",
              "    }\n",
              "\n",
              "    .dataframe tbody tr th {\n",
              "        vertical-align: top;\n",
              "    }\n",
              "\n",
              "    .dataframe thead th {\n",
              "        text-align: right;\n",
              "    }\n",
              "</style>\n",
              "<table border=\"1\" class=\"dataframe\">\n",
              "  <thead>\n",
              "    <tr style=\"text-align: right;\">\n",
              "      <th></th>\n",
              "      <th>Service Group</th>\n",
              "      <th>Point Mechanism</th>\n",
              "      <th>Maximum Point Per Trans</th>\n",
              "    </tr>\n",
              "  </thead>\n",
              "  <tbody>\n",
              "    <tr>\n",
              "      <th>0</th>\n",
              "      <td>supermarket</td>\n",
              "      <td>1 points/1000VND GMV</td>\n",
              "      <td>500 points</td>\n",
              "    </tr>\n",
              "    <tr>\n",
              "      <th>1</th>\n",
              "      <td>data</td>\n",
              "      <td>10 points/1000VND GMV</td>\n",
              "      <td>1000 points</td>\n",
              "    </tr>\n",
              "    <tr>\n",
              "      <th>2</th>\n",
              "      <td>cvs</td>\n",
              "      <td>1 points/1000VND GMV</td>\n",
              "      <td>300 points</td>\n",
              "    </tr>\n",
              "    <tr>\n",
              "      <th>3</th>\n",
              "      <td>marketplace</td>\n",
              "      <td>1 points/1000VND GMV</td>\n",
              "      <td>500 points</td>\n",
              "    </tr>\n",
              "    <tr>\n",
              "      <th>4</th>\n",
              "      <td>Coffee chains and Milk tea</td>\n",
              "      <td>1 points/1000VND GMV</td>\n",
              "      <td>500 points</td>\n",
              "    </tr>\n",
              "  </tbody>\n",
              "</table>\n",
              "</div>"
            ],
            "text/plain": [
              "                Service Group        Point Mechanism Maximum Point Per Trans\n",
              "0                 supermarket   1 points/1000VND GMV              500 points\n",
              "1                        data  10 points/1000VND GMV             1000 points\n",
              "2                         cvs   1 points/1000VND GMV              300 points\n",
              "3                 marketplace   1 points/1000VND GMV              500 points\n",
              "4  Coffee chains and Milk tea   1 points/1000VND GMV              500 points"
            ]
          },
          "execution_count": 3,
          "metadata": {},
          "output_type": "execute_result"
        }
      ],
      "source": [
        "points.head()"
      ]
    },
    {
      "cell_type": "code",
      "execution_count": null,
      "id": "c663ba6a",
      "metadata": {
        "scrolled": true,
        "id": "c663ba6a",
        "outputId": "62d3caa7-572b-4d09-e615-4b1de9f07322"
      },
      "outputs": [
        {
          "data": {
            "text/plain": [
              "Service Group              object\n",
              "Point Mechanism            object\n",
              "Maximum Point Per Trans    object\n",
              "dtype: object"
            ]
          },
          "execution_count": 4,
          "metadata": {},
          "output_type": "execute_result"
        }
      ],
      "source": [
        "points.dtypes"
      ]
    },
    {
      "cell_type": "markdown",
      "id": "d1814109",
      "metadata": {
        "id": "d1814109"
      },
      "source": [
        "Clean columns :`Point Mechanism` and `Maximum Point Per Trans` have to be in integer types:"
      ]
    },
    {
      "cell_type": "code",
      "execution_count": null,
      "id": "d2ce3832",
      "metadata": {
        "id": "d2ce3832"
      },
      "outputs": [],
      "source": [
        "def transform(row):\n",
        "    return row['Point Mechanism'].split(' ')[0]\n",
        "    #split by space and take the number at 1st index"
      ]
    },
    {
      "cell_type": "code",
      "execution_count": null,
      "id": "e4e24ae5",
      "metadata": {
        "id": "e4e24ae5"
      },
      "outputs": [],
      "source": [
        "def transform_2(row):\n",
        "     return row['Maximum Point Per Trans'].split(' ')[0]"
      ]
    },
    {
      "cell_type": "code",
      "execution_count": null,
      "id": "33a9b1cc",
      "metadata": {
        "id": "33a9b1cc"
      },
      "outputs": [],
      "source": [
        "points['Point Mechanism']=points.apply(transform,axis=1)\n",
        "points['Maximum Point Per Trans']=points.apply(transform_2,axis=1)"
      ]
    },
    {
      "cell_type": "code",
      "execution_count": null,
      "id": "e2a94dc1",
      "metadata": {
        "id": "e2a94dc1",
        "outputId": "6f66583d-2b8a-4477-e4b9-7be667009bd9"
      },
      "outputs": [
        {
          "data": {
            "text/plain": [
              "Service Group              object\n",
              "Point Mechanism             int64\n",
              "Maximum Point Per Trans     int64\n",
              "dtype: object"
            ]
          },
          "execution_count": 8,
          "metadata": {},
          "output_type": "execute_result"
        }
      ],
      "source": [
        "points = points.astype({\"Point Mechanism\": int, \"Maximum Point Per Trans\": int})\n",
        "points.dtypes"
      ]
    },
    {
      "cell_type": "code",
      "execution_count": null,
      "id": "fdc36604",
      "metadata": {
        "id": "fdc36604",
        "outputId": "c0ec9af9-7064-4d17-ac48-10d4008a389f"
      },
      "outputs": [
        {
          "data": {
            "text/html": [
              "<div>\n",
              "<style scoped>\n",
              "    .dataframe tbody tr th:only-of-type {\n",
              "        vertical-align: middle;\n",
              "    }\n",
              "\n",
              "    .dataframe tbody tr th {\n",
              "        vertical-align: top;\n",
              "    }\n",
              "\n",
              "    .dataframe thead th {\n",
              "        text-align: right;\n",
              "    }\n",
              "</style>\n",
              "<table border=\"1\" class=\"dataframe\">\n",
              "  <thead>\n",
              "    <tr style=\"text-align: right;\">\n",
              "      <th></th>\n",
              "      <th>DATE</th>\n",
              "      <th>Order_id</th>\n",
              "      <th>NEWVERTICAL_Merchant</th>\n",
              "      <th>MerchantID</th>\n",
              "      <th>User_id</th>\n",
              "      <th>GMV</th>\n",
              "      <th>Service Group</th>\n",
              "    </tr>\n",
              "  </thead>\n",
              "  <tbody>\n",
              "    <tr>\n",
              "      <th>0</th>\n",
              "      <td>2021-01-01</td>\n",
              "      <td>8733622706</td>\n",
              "      <td>Marketplace</td>\n",
              "      <td>37</td>\n",
              "      <td>61386143</td>\n",
              "      <td>100000</td>\n",
              "      <td>marketplace</td>\n",
              "    </tr>\n",
              "    <tr>\n",
              "      <th>1</th>\n",
              "      <td>2021-01-01</td>\n",
              "      <td>8726857991</td>\n",
              "      <td>Supermarket</td>\n",
              "      <td>9</td>\n",
              "      <td>48453125</td>\n",
              "      <td>5000</td>\n",
              "      <td>supermarket</td>\n",
              "    </tr>\n",
              "    <tr>\n",
              "      <th>2</th>\n",
              "      <td>2021-01-01</td>\n",
              "      <td>8737326894</td>\n",
              "      <td>Supermarket</td>\n",
              "      <td>9</td>\n",
              "      <td>49921027</td>\n",
              "      <td>106600</td>\n",
              "      <td>supermarket</td>\n",
              "    </tr>\n",
              "    <tr>\n",
              "      <th>3</th>\n",
              "      <td>2021-01-01</td>\n",
              "      <td>8732579078</td>\n",
              "      <td>supermarket</td>\n",
              "      <td>9</td>\n",
              "      <td>46022523</td>\n",
              "      <td>270000</td>\n",
              "      <td>supermarket</td>\n",
              "    </tr>\n",
              "    <tr>\n",
              "      <th>4</th>\n",
              "      <td>2021-01-01</td>\n",
              "      <td>8725567343</td>\n",
              "      <td>CVS</td>\n",
              "      <td>8</td>\n",
              "      <td>44014594</td>\n",
              "      <td>68000</td>\n",
              "      <td>cvs</td>\n",
              "    </tr>\n",
              "  </tbody>\n",
              "</table>\n",
              "</div>"
            ],
            "text/plain": [
              "         DATE    Order_id NEWVERTICAL_Merchant  MerchantID   User_id     GMV  \\\n",
              "0  2021-01-01  8733622706          Marketplace          37  61386143  100000   \n",
              "1  2021-01-01  8726857991          Supermarket           9  48453125    5000   \n",
              "2  2021-01-01  8737326894          Supermarket           9  49921027  106600   \n",
              "3  2021-01-01  8732579078          supermarket           9  46022523  270000   \n",
              "4  2021-01-01  8725567343                  CVS           8  44014594   68000   \n",
              "\n",
              "  Service Group  \n",
              "0   marketplace  \n",
              "1   supermarket  \n",
              "2   supermarket  \n",
              "3   supermarket  \n",
              "4           cvs  "
            ]
          },
          "execution_count": 9,
          "metadata": {},
          "output_type": "execute_result"
        }
      ],
      "source": [
        "transaction.head()"
      ]
    },
    {
      "cell_type": "code",
      "execution_count": null,
      "id": "958193b6",
      "metadata": {
        "id": "958193b6",
        "outputId": "e96d9bfe-ff34-45ab-9715-30a383421806"
      },
      "outputs": [
        {
          "data": {
            "text/plain": [
              "DATE                    object\n",
              "Order_id                 int64\n",
              "NEWVERTICAL_Merchant    object\n",
              "MerchantID               int64\n",
              "User_id                  int64\n",
              "GMV                      int64\n",
              "Service Group           object\n",
              "dtype: object"
            ]
          },
          "execution_count": 10,
          "metadata": {},
          "output_type": "execute_result"
        }
      ],
      "source": [
        "transaction.dtypes"
      ]
    },
    {
      "cell_type": "markdown",
      "id": "10b95a52",
      "metadata": {
        "id": "10b95a52"
      },
      "source": [
        "Change `DATE` column to **datetime** type:"
      ]
    },
    {
      "cell_type": "code",
      "execution_count": null,
      "id": "c3b9b91e",
      "metadata": {
        "id": "c3b9b91e"
      },
      "outputs": [],
      "source": [
        "transaction['DATE']= pd.to_datetime(transaction['DATE'],format='%Y/%m/%d')"
      ]
    },
    {
      "cell_type": "code",
      "execution_count": null,
      "id": "224d8450",
      "metadata": {
        "scrolled": false,
        "id": "224d8450",
        "outputId": "ee87f1c1-b922-4bab-9639-857a5208e745"
      },
      "outputs": [
        {
          "data": {
            "text/html": [
              "<div>\n",
              "<style scoped>\n",
              "    .dataframe tbody tr th:only-of-type {\n",
              "        vertical-align: middle;\n",
              "    }\n",
              "\n",
              "    .dataframe tbody tr th {\n",
              "        vertical-align: top;\n",
              "    }\n",
              "\n",
              "    .dataframe thead th {\n",
              "        text-align: right;\n",
              "    }\n",
              "</style>\n",
              "<table border=\"1\" class=\"dataframe\">\n",
              "  <thead>\n",
              "    <tr style=\"text-align: right;\">\n",
              "      <th></th>\n",
              "      <th>DATE</th>\n",
              "      <th>Order_id</th>\n",
              "      <th>NEWVERTICAL_Merchant</th>\n",
              "      <th>MerchantID</th>\n",
              "      <th>User_id</th>\n",
              "      <th>GMV</th>\n",
              "      <th>Service Group</th>\n",
              "      <th>Point Mechanism</th>\n",
              "      <th>Maximum Point Per Trans</th>\n",
              "    </tr>\n",
              "  </thead>\n",
              "  <tbody>\n",
              "    <tr>\n",
              "      <th>0</th>\n",
              "      <td>2021-01-01</td>\n",
              "      <td>8733622706</td>\n",
              "      <td>Marketplace</td>\n",
              "      <td>37</td>\n",
              "      <td>61386143</td>\n",
              "      <td>100000</td>\n",
              "      <td>marketplace</td>\n",
              "      <td>1</td>\n",
              "      <td>500</td>\n",
              "    </tr>\n",
              "    <tr>\n",
              "      <th>1</th>\n",
              "      <td>2021-01-01</td>\n",
              "      <td>8734263912</td>\n",
              "      <td>Marketplace</td>\n",
              "      <td>24</td>\n",
              "      <td>31058664</td>\n",
              "      <td>300700</td>\n",
              "      <td>marketplace</td>\n",
              "      <td>1</td>\n",
              "      <td>500</td>\n",
              "    </tr>\n",
              "    <tr>\n",
              "      <th>2</th>\n",
              "      <td>2021-01-01</td>\n",
              "      <td>8735101008</td>\n",
              "      <td>Marketplace</td>\n",
              "      <td>24</td>\n",
              "      <td>36415344</td>\n",
              "      <td>178900</td>\n",
              "      <td>marketplace</td>\n",
              "      <td>1</td>\n",
              "      <td>500</td>\n",
              "    </tr>\n",
              "    <tr>\n",
              "      <th>3</th>\n",
              "      <td>2021-01-02</td>\n",
              "      <td>8747547067</td>\n",
              "      <td>Marketplace</td>\n",
              "      <td>37</td>\n",
              "      <td>61267321</td>\n",
              "      <td>100000</td>\n",
              "      <td>marketplace</td>\n",
              "      <td>1</td>\n",
              "      <td>500</td>\n",
              "    </tr>\n",
              "    <tr>\n",
              "      <th>4</th>\n",
              "      <td>2021-01-02</td>\n",
              "      <td>8744545475</td>\n",
              "      <td>Marketplace</td>\n",
              "      <td>37</td>\n",
              "      <td>7367023</td>\n",
              "      <td>163000</td>\n",
              "      <td>marketplace</td>\n",
              "      <td>1</td>\n",
              "      <td>500</td>\n",
              "    </tr>\n",
              "  </tbody>\n",
              "</table>\n",
              "</div>"
            ],
            "text/plain": [
              "        DATE    Order_id NEWVERTICAL_Merchant  MerchantID   User_id     GMV  \\\n",
              "0 2021-01-01  8733622706          Marketplace          37  61386143  100000   \n",
              "1 2021-01-01  8734263912          Marketplace          24  31058664  300700   \n",
              "2 2021-01-01  8735101008          Marketplace          24  36415344  178900   \n",
              "3 2021-01-02  8747547067          Marketplace          37  61267321  100000   \n",
              "4 2021-01-02  8744545475          Marketplace          37   7367023  163000   \n",
              "\n",
              "  Service Group  Point Mechanism  Maximum Point Per Trans  \n",
              "0   marketplace                1                      500  \n",
              "1   marketplace                1                      500  \n",
              "2   marketplace                1                      500  \n",
              "3   marketplace                1                      500  \n",
              "4   marketplace                1                      500  "
            ]
          },
          "execution_count": 12,
          "metadata": {},
          "output_type": "execute_result"
        }
      ],
      "source": [
        "#merging two dataframe(transaction and loyalty point) using same column Service Group\n",
        "transaction=pd.merge(transaction,points,on='Service Group')\n",
        "transaction.sort_values('DATE').reset_index(drop=True)\n",
        "transaction.head()"
      ]
    },
    {
      "cell_type": "markdown",
      "id": "9ce81cda",
      "metadata": {
        "id": "9ce81cda"
      },
      "source": [
        "Calculate loyalty points:"
      ]
    },
    {
      "cell_type": "code",
      "execution_count": null,
      "id": "e1500009",
      "metadata": {
        "id": "e1500009"
      },
      "outputs": [],
      "source": [
        "def loyalty_points(row):\n",
        "    if (row['GMV']*row['Point Mechanism']/1000)<=row['Maximum Point Per Trans']:\n",
        "        return row['GMV']*row['Point Mechanism']/1000\n",
        "    else:\n",
        "        return row['Maximum Point Per Trans']"
      ]
    },
    {
      "cell_type": "code",
      "execution_count": null,
      "id": "4a12a56f",
      "metadata": {
        "id": "4a12a56f",
        "outputId": "5e4bd119-6a23-4e15-aab3-32b5011ba480"
      },
      "outputs": [
        {
          "data": {
            "text/html": [
              "<div>\n",
              "<style scoped>\n",
              "    .dataframe tbody tr th:only-of-type {\n",
              "        vertical-align: middle;\n",
              "    }\n",
              "\n",
              "    .dataframe tbody tr th {\n",
              "        vertical-align: top;\n",
              "    }\n",
              "\n",
              "    .dataframe thead th {\n",
              "        text-align: right;\n",
              "    }\n",
              "</style>\n",
              "<table border=\"1\" class=\"dataframe\">\n",
              "  <thead>\n",
              "    <tr style=\"text-align: right;\">\n",
              "      <th></th>\n",
              "      <th>DATE</th>\n",
              "      <th>Order_id</th>\n",
              "      <th>NEWVERTICAL_Merchant</th>\n",
              "      <th>MerchantID</th>\n",
              "      <th>User_id</th>\n",
              "      <th>GMV</th>\n",
              "      <th>Service Group</th>\n",
              "      <th>Point Mechanism</th>\n",
              "      <th>Maximum Point Per Trans</th>\n",
              "      <th>Loyalty Points</th>\n",
              "    </tr>\n",
              "  </thead>\n",
              "  <tbody>\n",
              "    <tr>\n",
              "      <th>0</th>\n",
              "      <td>2021-01-01</td>\n",
              "      <td>8733622706</td>\n",
              "      <td>Marketplace</td>\n",
              "      <td>37</td>\n",
              "      <td>61386143</td>\n",
              "      <td>100000</td>\n",
              "      <td>marketplace</td>\n",
              "      <td>1</td>\n",
              "      <td>500</td>\n",
              "      <td>100.0</td>\n",
              "    </tr>\n",
              "    <tr>\n",
              "      <th>1</th>\n",
              "      <td>2021-01-01</td>\n",
              "      <td>8734263912</td>\n",
              "      <td>Marketplace</td>\n",
              "      <td>24</td>\n",
              "      <td>31058664</td>\n",
              "      <td>300700</td>\n",
              "      <td>marketplace</td>\n",
              "      <td>1</td>\n",
              "      <td>500</td>\n",
              "      <td>300.7</td>\n",
              "    </tr>\n",
              "    <tr>\n",
              "      <th>2</th>\n",
              "      <td>2021-01-01</td>\n",
              "      <td>8735101008</td>\n",
              "      <td>Marketplace</td>\n",
              "      <td>24</td>\n",
              "      <td>36415344</td>\n",
              "      <td>178900</td>\n",
              "      <td>marketplace</td>\n",
              "      <td>1</td>\n",
              "      <td>500</td>\n",
              "      <td>178.9</td>\n",
              "    </tr>\n",
              "    <tr>\n",
              "      <th>3</th>\n",
              "      <td>2021-01-02</td>\n",
              "      <td>8747547067</td>\n",
              "      <td>Marketplace</td>\n",
              "      <td>37</td>\n",
              "      <td>61267321</td>\n",
              "      <td>100000</td>\n",
              "      <td>marketplace</td>\n",
              "      <td>1</td>\n",
              "      <td>500</td>\n",
              "      <td>100.0</td>\n",
              "    </tr>\n",
              "    <tr>\n",
              "      <th>4</th>\n",
              "      <td>2021-01-02</td>\n",
              "      <td>8744545475</td>\n",
              "      <td>Marketplace</td>\n",
              "      <td>37</td>\n",
              "      <td>7367023</td>\n",
              "      <td>163000</td>\n",
              "      <td>marketplace</td>\n",
              "      <td>1</td>\n",
              "      <td>500</td>\n",
              "      <td>163.0</td>\n",
              "    </tr>\n",
              "  </tbody>\n",
              "</table>\n",
              "</div>"
            ],
            "text/plain": [
              "        DATE    Order_id NEWVERTICAL_Merchant  MerchantID   User_id     GMV  \\\n",
              "0 2021-01-01  8733622706          Marketplace          37  61386143  100000   \n",
              "1 2021-01-01  8734263912          Marketplace          24  31058664  300700   \n",
              "2 2021-01-01  8735101008          Marketplace          24  36415344  178900   \n",
              "3 2021-01-02  8747547067          Marketplace          37  61267321  100000   \n",
              "4 2021-01-02  8744545475          Marketplace          37   7367023  163000   \n",
              "\n",
              "  Service Group  Point Mechanism  Maximum Point Per Trans  Loyalty Points  \n",
              "0   marketplace                1                      500           100.0  \n",
              "1   marketplace                1                      500           300.7  \n",
              "2   marketplace                1                      500           178.9  \n",
              "3   marketplace                1                      500           100.0  \n",
              "4   marketplace                1                      500           163.0  "
            ]
          },
          "execution_count": 14,
          "metadata": {},
          "output_type": "execute_result"
        }
      ],
      "source": [
        "transaction['Loyalty Points']=transaction.apply(loyalty_points,axis=1)\n",
        "transaction.head()"
      ]
    },
    {
      "cell_type": "markdown",
      "id": "eabba9ae",
      "metadata": {
        "id": "eabba9ae"
      },
      "source": [
        "Building `Loyalty Ranking` table to track Rank of each Users on daily basis:"
      ]
    },
    {
      "cell_type": "code",
      "execution_count": null,
      "id": "32da67bd",
      "metadata": {
        "scrolled": true,
        "id": "32da67bd",
        "outputId": "478c6484-6dbf-4455-98db-df22f912ab6a"
      },
      "outputs": [
        {
          "data": {
            "text/html": [
              "<div>\n",
              "<style scoped>\n",
              "    .dataframe tbody tr th:only-of-type {\n",
              "        vertical-align: middle;\n",
              "    }\n",
              "\n",
              "    .dataframe tbody tr th {\n",
              "        vertical-align: top;\n",
              "    }\n",
              "\n",
              "    .dataframe thead th {\n",
              "        text-align: right;\n",
              "    }\n",
              "</style>\n",
              "<table border=\"1\" class=\"dataframe\">\n",
              "  <thead>\n",
              "    <tr style=\"text-align: right;\">\n",
              "      <th></th>\n",
              "      <th>DATE</th>\n",
              "    </tr>\n",
              "  </thead>\n",
              "  <tbody>\n",
              "    <tr>\n",
              "      <th>0</th>\n",
              "      <td>2021-01-01</td>\n",
              "    </tr>\n",
              "    <tr>\n",
              "      <th>1</th>\n",
              "      <td>2021-01-02</td>\n",
              "    </tr>\n",
              "    <tr>\n",
              "      <th>2</th>\n",
              "      <td>2021-01-03</td>\n",
              "    </tr>\n",
              "    <tr>\n",
              "      <th>3</th>\n",
              "      <td>2021-01-04</td>\n",
              "    </tr>\n",
              "    <tr>\n",
              "      <th>4</th>\n",
              "      <td>2021-01-05</td>\n",
              "    </tr>\n",
              "  </tbody>\n",
              "</table>\n",
              "</div>"
            ],
            "text/plain": [
              "        DATE\n",
              "0 2021-01-01\n",
              "1 2021-01-02\n",
              "2 2021-01-03\n",
              "3 2021-01-04\n",
              "4 2021-01-05"
            ]
          },
          "execution_count": 15,
          "metadata": {},
          "output_type": "execute_result"
        }
      ],
      "source": [
        "date= transaction['DATE'].unique()\n",
        "date=pd.DataFrame({'DATE':date})\n",
        "date=date.sort_values('DATE').reset_index(drop=True)\n",
        "date.head()"
      ]
    },
    {
      "cell_type": "code",
      "execution_count": null,
      "id": "e7a31397",
      "metadata": {
        "id": "e7a31397"
      },
      "outputs": [],
      "source": [
        "transaction_subset=transaction[['DATE','User_id','Service Group','GMV','Loyalty Points']]"
      ]
    },
    {
      "cell_type": "code",
      "execution_count": null,
      "id": "b08d19df",
      "metadata": {
        "id": "b08d19df"
      },
      "outputs": [],
      "source": [
        "unique_user=transaction_subset['User_id'].unique()"
      ]
    },
    {
      "cell_type": "code",
      "execution_count": null,
      "id": "2e82a8fe",
      "metadata": {
        "id": "2e82a8fe"
      },
      "outputs": [],
      "source": [
        "Loyal_Ranking_temp=transaction_subset[transaction_subset['User_id']==unique_user[0]].sort_values('DATE').reset_index(drop=True)                                                                                "
      ]
    },
    {
      "cell_type": "code",
      "execution_count": null,
      "id": "45c47b2b",
      "metadata": {
        "id": "45c47b2b"
      },
      "outputs": [],
      "source": [
        "Loyal_Ranking_temp=pd.merge(date,Loyal_Ranking_temp,on='DATE',how='left').sort_values('DATE').reset_index(drop=True)\n",
        "Loyal_Ranking_temp[['GMV','Loyalty Points']]=Loyal_Ranking_temp[['GMV','Loyalty Points']].fillna(0)\n",
        "Loyal_Ranking_temp['User_id']=Loyal_Ranking_temp['User_id'].fillna(unique_user[0])\n",
        "Loyal_Ranking_temp['cum_sum']=Loyal_Ranking_temp['Loyalty Points'].cumsum()"
      ]
    },
    {
      "cell_type": "code",
      "execution_count": null,
      "id": "cccb0431",
      "metadata": {
        "id": "cccb0431"
      },
      "outputs": [],
      "source": [
        "def calculated_points(row):\n",
        "    date_valid_threshold=row['DATE']-timedelta(30)\n",
        "    expired_point=Loyal_Ranking_temp.loc[Loyal_Ranking_temp['DATE']<date_valid_threshold,'Loyalty Points'].sum()\n",
        "    return row['cum_sum']-expired_point"
      ]
    },
    {
      "cell_type": "code",
      "execution_count": null,
      "id": "30ea765b",
      "metadata": {
        "id": "30ea765b"
      },
      "outputs": [],
      "source": [
        "from datetime import timedelta"
      ]
    },
    {
      "cell_type": "code",
      "execution_count": null,
      "id": "6ef0b9d5",
      "metadata": {
        "id": "6ef0b9d5"
      },
      "outputs": [],
      "source": [
        "Loyal_Ranking_temp['calculated_point']=Loyal_Ranking_temp.apply(calculated_points,axis=1)\n",
        "Loyal_Ranking_temp.loc[Loyal_Ranking_temp['calculated_point']<=0,'calculated_point']=0\n",
        "Loyal_Ranking=Loyal_Ranking_temp"
      ]
    },
    {
      "cell_type": "code",
      "execution_count": null,
      "id": "4c744d54",
      "metadata": {
        "id": "4c744d54",
        "outputId": "6c4e6448-cb1d-46b0-900d-0c1c2b975b18"
      },
      "outputs": [
        {
          "data": {
            "text/html": [
              "<div>\n",
              "<style scoped>\n",
              "    .dataframe tbody tr th:only-of-type {\n",
              "        vertical-align: middle;\n",
              "    }\n",
              "\n",
              "    .dataframe tbody tr th {\n",
              "        vertical-align: top;\n",
              "    }\n",
              "\n",
              "    .dataframe thead th {\n",
              "        text-align: right;\n",
              "    }\n",
              "</style>\n",
              "<table border=\"1\" class=\"dataframe\">\n",
              "  <thead>\n",
              "    <tr style=\"text-align: right;\">\n",
              "      <th></th>\n",
              "      <th>DATE</th>\n",
              "      <th>User_id</th>\n",
              "      <th>Service Group</th>\n",
              "      <th>GMV</th>\n",
              "      <th>Loyalty Points</th>\n",
              "      <th>cum_sum</th>\n",
              "      <th>calculated_point</th>\n",
              "    </tr>\n",
              "  </thead>\n",
              "  <tbody>\n",
              "    <tr>\n",
              "      <th>0</th>\n",
              "      <td>2021-01-01</td>\n",
              "      <td>61386143.0</td>\n",
              "      <td>marketplace</td>\n",
              "      <td>100000.0</td>\n",
              "      <td>100.0</td>\n",
              "      <td>100.0</td>\n",
              "      <td>100.0</td>\n",
              "    </tr>\n",
              "    <tr>\n",
              "      <th>1</th>\n",
              "      <td>2021-01-02</td>\n",
              "      <td>61386143.0</td>\n",
              "      <td>NaN</td>\n",
              "      <td>0.0</td>\n",
              "      <td>0.0</td>\n",
              "      <td>100.0</td>\n",
              "      <td>100.0</td>\n",
              "    </tr>\n",
              "    <tr>\n",
              "      <th>2</th>\n",
              "      <td>2021-01-03</td>\n",
              "      <td>61386143.0</td>\n",
              "      <td>data</td>\n",
              "      <td>10000.0</td>\n",
              "      <td>100.0</td>\n",
              "      <td>200.0</td>\n",
              "      <td>200.0</td>\n",
              "    </tr>\n",
              "    <tr>\n",
              "      <th>3</th>\n",
              "      <td>2021-01-04</td>\n",
              "      <td>61386143.0</td>\n",
              "      <td>NaN</td>\n",
              "      <td>0.0</td>\n",
              "      <td>0.0</td>\n",
              "      <td>200.0</td>\n",
              "      <td>200.0</td>\n",
              "    </tr>\n",
              "    <tr>\n",
              "      <th>4</th>\n",
              "      <td>2021-01-05</td>\n",
              "      <td>61386143.0</td>\n",
              "      <td>NaN</td>\n",
              "      <td>0.0</td>\n",
              "      <td>0.0</td>\n",
              "      <td>200.0</td>\n",
              "      <td>200.0</td>\n",
              "    </tr>\n",
              "  </tbody>\n",
              "</table>\n",
              "</div>"
            ],
            "text/plain": [
              "        DATE     User_id Service Group       GMV  Loyalty Points  cum_sum  \\\n",
              "0 2021-01-01  61386143.0   marketplace  100000.0           100.0    100.0   \n",
              "1 2021-01-02  61386143.0           NaN       0.0             0.0    100.0   \n",
              "2 2021-01-03  61386143.0          data   10000.0           100.0    200.0   \n",
              "3 2021-01-04  61386143.0           NaN       0.0             0.0    200.0   \n",
              "4 2021-01-05  61386143.0           NaN       0.0             0.0    200.0   \n",
              "\n",
              "   calculated_point  \n",
              "0             100.0  \n",
              "1             100.0  \n",
              "2             200.0  \n",
              "3             200.0  \n",
              "4             200.0  "
            ]
          },
          "execution_count": 23,
          "metadata": {},
          "output_type": "execute_result"
        }
      ],
      "source": [
        "Loyal_Ranking.head()"
      ]
    },
    {
      "cell_type": "code",
      "execution_count": null,
      "id": "083ee25a",
      "metadata": {
        "id": "083ee25a"
      },
      "outputs": [],
      "source": [
        "for i in range(1,1000):\n",
        "    Loyal_Ranking_temp=transaction_subset[transaction_subset['User_id']==unique_user[i]].sort_values('DATE').reset_index(drop=True)\n",
        "    Loyal_Ranking_temp=pd.merge(date,Loyal_Ranking_temp,on='DATE',how='left').sort_values('DATE').reset_index(drop=True)\n",
        "    Loyal_Ranking_temp[['GMV','Loyalty Points']]=Loyal_Ranking_temp[['GMV','Loyalty Points']].fillna(0)\n",
        "    Loyal_Ranking_temp['User_id']=Loyal_Ranking_temp['User_id'].fillna(unique_user[i])\n",
        "    Loyal_Ranking_temp['cum_sum']=Loyal_Ranking_temp['Loyalty Points'].cumsum()\n",
        "    Loyal_Ranking_temp['calculated_point']=Loyal_Ranking_temp.apply(calculated_points,axis=1)\n",
        "    Loyal_Ranking_temp.loc[Loyal_Ranking_temp['calculated_point']<=0,'calculated_point']=0\n",
        "    Loyal_Ranking=pd.concat([Loyal_Ranking,Loyal_Ranking_temp],axis=0)"
      ]
    },
    {
      "cell_type": "code",
      "execution_count": null,
      "id": "79c5016f",
      "metadata": {
        "scrolled": true,
        "id": "79c5016f"
      },
      "outputs": [],
      "source": [
        "for i in range(1000,2000):\n",
        "    Loyal_Ranking_temp=transaction_subset[transaction_subset['User_id']==unique_user[i]].sort_values('DATE').reset_index(drop=True)\n",
        "    Loyal_Ranking_temp=pd.merge(date,Loyal_Ranking_temp,on='DATE',how='left').sort_values('DATE').reset_index(drop=True)\n",
        "    Loyal_Ranking_temp[['GMV','Loyalty Points']]=Loyal_Ranking_temp[['GMV','Loyalty Points']].fillna(0)\n",
        "    Loyal_Ranking_temp['User_id']=Loyal_Ranking_temp['User_id'].fillna(unique_user[i])\n",
        "    Loyal_Ranking_temp['cum_sum']=Loyal_Ranking_temp['Loyalty Points'].cumsum()\n",
        "    Loyal_Ranking_temp['calculated_point']=Loyal_Ranking_temp.apply(calculated_points,axis=1)\n",
        "    Loyal_Ranking_temp.loc[Loyal_Ranking_temp['calculated_point']<=0,'calculated_point']=0\n",
        "    Loyal_Ranking=pd.concat([Loyal_Ranking,Loyal_Ranking_temp],axis=0)"
      ]
    },
    {
      "cell_type": "code",
      "execution_count": null,
      "id": "90979d67",
      "metadata": {
        "id": "90979d67"
      },
      "outputs": [],
      "source": [
        "for i in range(2000,3000):\n",
        "    Loyal_Ranking_temp=transaction_subset[transaction_subset['User_id']==unique_user[i]].sort_values('DATE').reset_index(drop=True)\n",
        "    Loyal_Ranking_temp=pd.merge(date,Loyal_Ranking_temp,on='DATE',how='left').sort_values('DATE').reset_index(drop=True)\n",
        "    Loyal_Ranking_temp[['GMV','Loyalty Points']]=Loyal_Ranking_temp[['GMV','Loyalty Points']].fillna(0)\n",
        "    Loyal_Ranking_temp['User_id']=Loyal_Ranking_temp['User_id'].fillna(unique_user[i])\n",
        "    Loyal_Ranking_temp['cum_sum']=Loyal_Ranking_temp['Loyalty Points'].cumsum()\n",
        "    Loyal_Ranking_temp['calculated_point']=Loyal_Ranking_temp.apply(calculated_points,axis=1)\n",
        "    Loyal_Ranking_temp.loc[Loyal_Ranking_temp['calculated_point']<=0,'calculated_point']=0\n",
        "    Loyal_Ranking=pd.concat([Loyal_Ranking,Loyal_Ranking_temp],axis=0)"
      ]
    },
    {
      "cell_type": "code",
      "execution_count": null,
      "id": "42b862e8",
      "metadata": {
        "id": "42b862e8"
      },
      "outputs": [],
      "source": [
        "for i in range(3000,4000):\n",
        "    Loyal_Ranking_temp=transaction_subset[transaction_subset['User_id']==unique_user[i]].sort_values('DATE').reset_index(drop=True)\n",
        "    Loyal_Ranking_temp=pd.merge(date,Loyal_Ranking_temp,on='DATE',how='left').sort_values('DATE').reset_index(drop=True)\n",
        "    Loyal_Ranking_temp[['GMV','Loyalty Points']]=Loyal_Ranking_temp[['GMV','Loyalty Points']].fillna(0)\n",
        "    Loyal_Ranking_temp['User_id']=Loyal_Ranking_temp['User_id'].fillna(unique_user[i])\n",
        "    Loyal_Ranking_temp['cum_sum']=Loyal_Ranking_temp['Loyalty Points'].cumsum()\n",
        "    Loyal_Ranking_temp['calculated_point']=Loyal_Ranking_temp.apply(calculated_points,axis=1)\n",
        "    Loyal_Ranking_temp.loc[Loyal_Ranking_temp['calculated_point']<=0,'calculated_point']=0\n",
        "    Loyal_Ranking=pd.concat([Loyal_Ranking,Loyal_Ranking_temp],axis=0)"
      ]
    },
    {
      "cell_type": "code",
      "execution_count": null,
      "id": "f0ee507e",
      "metadata": {
        "id": "f0ee507e"
      },
      "outputs": [],
      "source": [
        "for i in range(4000,5000):\n",
        "    Loyal_Ranking_temp=transaction_subset[transaction_subset['User_id']==unique_user[i]].sort_values('DATE').reset_index(drop=True)\n",
        "    Loyal_Ranking_temp=pd.merge(date,Loyal_Ranking_temp,on='DATE',how='left').sort_values('DATE').reset_index(drop=True)\n",
        "    Loyal_Ranking_temp[['GMV','Loyalty Points']]=Loyal_Ranking_temp[['GMV','Loyalty Points']].fillna(0)\n",
        "    Loyal_Ranking_temp['User_id']=Loyal_Ranking_temp['User_id'].fillna(unique_user[i])\n",
        "    Loyal_Ranking_temp['cum_sum']=Loyal_Ranking_temp['Loyalty Points'].cumsum()\n",
        "    Loyal_Ranking_temp['calculated_point']=Loyal_Ranking_temp.apply(calculated_points,axis=1)\n",
        "    Loyal_Ranking_temp.loc[Loyal_Ranking_temp['calculated_point']<=0,'calculated_point']=0\n",
        "    Loyal_Ranking=pd.concat([Loyal_Ranking,Loyal_Ranking_temp],axis=0)"
      ]
    },
    {
      "cell_type": "code",
      "execution_count": null,
      "id": "69933d41",
      "metadata": {
        "id": "69933d41"
      },
      "outputs": [],
      "source": [
        "for i in range(5000,len(unique_user)):\n",
        "    Loyal_Ranking_temp=transaction_subset[transaction_subset['User_id']==unique_user[i]].sort_values('DATE').reset_index(drop=True)\n",
        "    Loyal_Ranking_temp=pd.merge(date,Loyal_Ranking_temp,on='DATE',how='left').sort_values('DATE').reset_index(drop=True)\n",
        "    Loyal_Ranking_temp[['GMV','Loyalty Points']]=Loyal_Ranking_temp[['GMV','Loyalty Points']].fillna(0)\n",
        "    Loyal_Ranking_temp['User_id']=Loyal_Ranking_temp['User_id'].fillna(unique_user[i])\n",
        "    Loyal_Ranking_temp['cum_sum']=Loyal_Ranking_temp['Loyalty Points'].cumsum()\n",
        "    Loyal_Ranking_temp['calculated_point']=Loyal_Ranking_temp.apply(calculated_points,axis=1)\n",
        "    Loyal_Ranking_temp.loc[Loyal_Ranking_temp['calculated_point']<=0,'calculated_point']=0\n",
        "    Loyal_Ranking=pd.concat([Loyal_Ranking,Loyal_Ranking_temp],axis=0)"
      ]
    },
    {
      "cell_type": "code",
      "execution_count": null,
      "id": "7df50504",
      "metadata": {
        "id": "7df50504"
      },
      "outputs": [],
      "source": [
        "def rank(row):\n",
        "    if row['calculated_point']>=1 and row['calculated_point']<=999: return 'STANDARD'\n",
        "    elif row['calculated_point']>=1000 and row['calculated_point']<=1999: return 'SILVER'\n",
        "    elif row['calculated_point']>=2000 and row['calculated_point']<=4999: return 'GOLD'\n",
        "    elif row['calculated_point']>=5000: return 'DIAMOND'"
      ]
    },
    {
      "cell_type": "code",
      "execution_count": null,
      "id": "3f3e04b1",
      "metadata": {
        "id": "3f3e04b1"
      },
      "outputs": [],
      "source": [
        "Loyal_Ranking['Rank Name']=Loyal_Ranking.apply(rank,axis=1)"
      ]
    },
    {
      "cell_type": "markdown",
      "id": "dbc7b3e4",
      "metadata": {
        "id": "dbc7b3e4"
      },
      "source": [
        "Final table:"
      ]
    },
    {
      "cell_type": "code",
      "execution_count": null,
      "id": "4d434a4e",
      "metadata": {
        "scrolled": true,
        "id": "4d434a4e",
        "outputId": "a98b9cf9-f7f4-436a-9c8f-e5101c35dedc"
      },
      "outputs": [
        {
          "data": {
            "text/html": [
              "<div>\n",
              "<style scoped>\n",
              "    .dataframe tbody tr th:only-of-type {\n",
              "        vertical-align: middle;\n",
              "    }\n",
              "\n",
              "    .dataframe tbody tr th {\n",
              "        vertical-align: top;\n",
              "    }\n",
              "\n",
              "    .dataframe thead th {\n",
              "        text-align: right;\n",
              "    }\n",
              "</style>\n",
              "<table border=\"1\" class=\"dataframe\">\n",
              "  <thead>\n",
              "    <tr style=\"text-align: right;\">\n",
              "      <th></th>\n",
              "      <th>DATE</th>\n",
              "      <th>User_id</th>\n",
              "      <th>Service Group</th>\n",
              "      <th>GMV</th>\n",
              "      <th>Loyalty Points</th>\n",
              "      <th>cum_sum</th>\n",
              "      <th>calculated_point</th>\n",
              "      <th>Rank Name</th>\n",
              "    </tr>\n",
              "  </thead>\n",
              "  <tbody>\n",
              "    <tr>\n",
              "      <th>0</th>\n",
              "      <td>2021-01-01</td>\n",
              "      <td>61386143.0</td>\n",
              "      <td>marketplace</td>\n",
              "      <td>100000.0</td>\n",
              "      <td>100.0</td>\n",
              "      <td>100.0</td>\n",
              "      <td>100.0</td>\n",
              "      <td>STANDARD</td>\n",
              "    </tr>\n",
              "    <tr>\n",
              "      <th>1</th>\n",
              "      <td>2021-01-02</td>\n",
              "      <td>61386143.0</td>\n",
              "      <td>NaN</td>\n",
              "      <td>0.0</td>\n",
              "      <td>0.0</td>\n",
              "      <td>100.0</td>\n",
              "      <td>100.0</td>\n",
              "      <td>STANDARD</td>\n",
              "    </tr>\n",
              "    <tr>\n",
              "      <th>2</th>\n",
              "      <td>2021-01-03</td>\n",
              "      <td>61386143.0</td>\n",
              "      <td>data</td>\n",
              "      <td>10000.0</td>\n",
              "      <td>100.0</td>\n",
              "      <td>200.0</td>\n",
              "      <td>200.0</td>\n",
              "      <td>STANDARD</td>\n",
              "    </tr>\n",
              "    <tr>\n",
              "      <th>3</th>\n",
              "      <td>2021-01-04</td>\n",
              "      <td>61386143.0</td>\n",
              "      <td>NaN</td>\n",
              "      <td>0.0</td>\n",
              "      <td>0.0</td>\n",
              "      <td>200.0</td>\n",
              "      <td>200.0</td>\n",
              "      <td>STANDARD</td>\n",
              "    </tr>\n",
              "    <tr>\n",
              "      <th>4</th>\n",
              "      <td>2021-01-05</td>\n",
              "      <td>61386143.0</td>\n",
              "      <td>NaN</td>\n",
              "      <td>0.0</td>\n",
              "      <td>0.0</td>\n",
              "      <td>200.0</td>\n",
              "      <td>200.0</td>\n",
              "      <td>STANDARD</td>\n",
              "    </tr>\n",
              "  </tbody>\n",
              "</table>\n",
              "</div>"
            ],
            "text/plain": [
              "        DATE     User_id Service Group       GMV  Loyalty Points  cum_sum  \\\n",
              "0 2021-01-01  61386143.0   marketplace  100000.0           100.0    100.0   \n",
              "1 2021-01-02  61386143.0           NaN       0.0             0.0    100.0   \n",
              "2 2021-01-03  61386143.0          data   10000.0           100.0    200.0   \n",
              "3 2021-01-04  61386143.0           NaN       0.0             0.0    200.0   \n",
              "4 2021-01-05  61386143.0           NaN       0.0             0.0    200.0   \n",
              "\n",
              "   calculated_point Rank Name  \n",
              "0             100.0  STANDARD  \n",
              "1             100.0  STANDARD  \n",
              "2             200.0  STANDARD  \n",
              "3             200.0  STANDARD  \n",
              "4             200.0  STANDARD  "
            ]
          },
          "execution_count": 32,
          "metadata": {},
          "output_type": "execute_result"
        }
      ],
      "source": [
        "Loyal_Ranking.head()"
      ]
    },
    {
      "cell_type": "markdown",
      "id": "ad3b9286",
      "metadata": {
        "id": "ad3b9286"
      },
      "source": [
        "As we **track** rank each user on **daily basis**, we just need to **count** have many users achieved **GOLD** at the date of **3-31-2022**:"
      ]
    },
    {
      "cell_type": "code",
      "execution_count": null,
      "id": "9560062c",
      "metadata": {
        "id": "9560062c"
      },
      "outputs": [],
      "source": [
        "end_of_march=Loyal_Ranking[Loyal_Ranking['DATE']=='2022-03-31']\n",
        "total=len(end_of_march.loc[end_of_march['Rank Name']== 'GOLD','User_id'].unique())\n",
        "# count unique as some customers have more than 1 transaction on 1 day\n",
        "#Diamond customer are not counted here (passby Gold) in my assumption"
      ]
    },
    {
      "cell_type": "code",
      "execution_count": null,
      "id": "4dd6d164",
      "metadata": {
        "id": "4dd6d164",
        "outputId": "d89c004d-94da-460b-ba71-310cfbe440fe"
      },
      "outputs": [
        {
          "name": "stdout",
          "output_type": "stream",
          "text": [
            "There are total 124 users achieved GOLD at the end of March 2022\n"
          ]
        }
      ],
      "source": [
        "print (f'There are total {total} users achieved GOLD at the end of March 2022')"
      ]
    },
    {
      "cell_type": "markdown",
      "id": "239d2fd4",
      "metadata": {
        "id": "239d2fd4"
      },
      "source": [
        "#### 2) Cashback cost in Feb 2022:"
      ]
    },
    {
      "cell_type": "code",
      "execution_count": null,
      "id": "c30d1d0f",
      "metadata": {
        "id": "c30d1d0f",
        "outputId": "ad35755b-b005-44eb-f722-b9034c40160b"
      },
      "outputs": [
        {
          "data": {
            "text/html": [
              "<div>\n",
              "<style scoped>\n",
              "    .dataframe tbody tr th:only-of-type {\n",
              "        vertical-align: middle;\n",
              "    }\n",
              "\n",
              "    .dataframe tbody tr th {\n",
              "        vertical-align: top;\n",
              "    }\n",
              "\n",
              "    .dataframe thead th {\n",
              "        text-align: right;\n",
              "    }\n",
              "</style>\n",
              "<table border=\"1\" class=\"dataframe\">\n",
              "  <thead>\n",
              "    <tr style=\"text-align: right;\">\n",
              "      <th></th>\n",
              "      <th>DATE</th>\n",
              "      <th>User_id</th>\n",
              "      <th>Service Group</th>\n",
              "      <th>GMV</th>\n",
              "      <th>Loyalty Points</th>\n",
              "      <th>cum_sum</th>\n",
              "      <th>calculated_point</th>\n",
              "      <th>Rank Name</th>\n",
              "    </tr>\n",
              "  </thead>\n",
              "  <tbody>\n",
              "    <tr>\n",
              "      <th>407</th>\n",
              "      <td>2022-02-13</td>\n",
              "      <td>61386143.0</td>\n",
              "      <td>supermarket</td>\n",
              "      <td>119900.0</td>\n",
              "      <td>119.9</td>\n",
              "      <td>348.900</td>\n",
              "      <td>148.9</td>\n",
              "      <td>STANDARD</td>\n",
              "    </tr>\n",
              "    <tr>\n",
              "      <th>408</th>\n",
              "      <td>2022-02-13</td>\n",
              "      <td>61386143.0</td>\n",
              "      <td>supermarket</td>\n",
              "      <td>33200.0</td>\n",
              "      <td>33.2</td>\n",
              "      <td>382.100</td>\n",
              "      <td>182.1</td>\n",
              "      <td>STANDARD</td>\n",
              "    </tr>\n",
              "    <tr>\n",
              "      <th>418</th>\n",
              "      <td>2022-02-23</td>\n",
              "      <td>61386143.0</td>\n",
              "      <td>Coffee chains and Milk tea</td>\n",
              "      <td>47000.0</td>\n",
              "      <td>47.0</td>\n",
              "      <td>429.100</td>\n",
              "      <td>229.1</td>\n",
              "      <td>STANDARD</td>\n",
              "    </tr>\n",
              "    <tr>\n",
              "      <th>421</th>\n",
              "      <td>2022-02-23</td>\n",
              "      <td>36415344.0</td>\n",
              "      <td>marketplace</td>\n",
              "      <td>90400.0</td>\n",
              "      <td>90.4</td>\n",
              "      <td>2816.170</td>\n",
              "      <td>90.4</td>\n",
              "      <td>STANDARD</td>\n",
              "    </tr>\n",
              "    <tr>\n",
              "      <th>423</th>\n",
              "      <td>2022-02-26</td>\n",
              "      <td>61267321.0</td>\n",
              "      <td>supermarket</td>\n",
              "      <td>8500.0</td>\n",
              "      <td>8.5</td>\n",
              "      <td>3028.076</td>\n",
              "      <td>8.5</td>\n",
              "      <td>STANDARD</td>\n",
              "    </tr>\n",
              "  </tbody>\n",
              "</table>\n",
              "</div>"
            ],
            "text/plain": [
              "          DATE     User_id               Service Group       GMV  \\\n",
              "407 2022-02-13  61386143.0                 supermarket  119900.0   \n",
              "408 2022-02-13  61386143.0                 supermarket   33200.0   \n",
              "418 2022-02-23  61386143.0  Coffee chains and Milk tea   47000.0   \n",
              "421 2022-02-23  36415344.0                 marketplace   90400.0   \n",
              "423 2022-02-26  61267321.0                 supermarket    8500.0   \n",
              "\n",
              "     Loyalty Points   cum_sum  calculated_point Rank Name  \n",
              "407           119.9   348.900             148.9  STANDARD  \n",
              "408            33.2   382.100             182.1  STANDARD  \n",
              "418            47.0   429.100             229.1  STANDARD  \n",
              "421            90.4  2816.170              90.4  STANDARD  \n",
              "423             8.5  3028.076               8.5  STANDARD  "
            ]
          },
          "execution_count": 35,
          "metadata": {},
          "output_type": "execute_result"
        }
      ],
      "source": [
        "Feb_2022=Loyal_Ranking.loc[(Loyal_Ranking['DATE']>='2022-02-01') &(Loyal_Ranking['DATE']<='2022-02-28'),:]\n",
        "valid_trans= Feb_2022.loc[Feb_2022['GMV']!=0,:]\n",
        "valid_trans.head()"
      ]
    },
    {
      "cell_type": "code",
      "execution_count": null,
      "id": "5ba88449",
      "metadata": {
        "id": "5ba88449",
        "outputId": "d09c3a92-b0be-40a6-9d98-7c9e01162145"
      },
      "outputs": [
        {
          "name": "stderr",
          "output_type": "stream",
          "text": [
            "/var/folders/mt/pl4zs_qn1px061cxgp0z1h9r0000gn/T/ipykernel_14667/515295371.py:2: SettingWithCopyWarning: \n",
            "A value is trying to be set on a copy of a slice from a DataFrame.\n",
            "Try using .loc[row_indexer,col_indexer] = value instead\n",
            "\n",
            "See the caveats in the documentation: https://pandas.pydata.org/pandas-docs/stable/user_guide/indexing.html#returning-a-view-versus-a-copy\n",
            "  valid_trans['Class ID']= valid_trans['Rank Name'].map(equiv)\n"
          ]
        },
        {
          "data": {
            "text/html": [
              "<div>\n",
              "<style scoped>\n",
              "    .dataframe tbody tr th:only-of-type {\n",
              "        vertical-align: middle;\n",
              "    }\n",
              "\n",
              "    .dataframe tbody tr th {\n",
              "        vertical-align: top;\n",
              "    }\n",
              "\n",
              "    .dataframe thead th {\n",
              "        text-align: right;\n",
              "    }\n",
              "</style>\n",
              "<table border=\"1\" class=\"dataframe\">\n",
              "  <thead>\n",
              "    <tr style=\"text-align: right;\">\n",
              "      <th></th>\n",
              "      <th>DATE</th>\n",
              "      <th>User_id</th>\n",
              "      <th>Service Group</th>\n",
              "      <th>GMV</th>\n",
              "      <th>Loyalty Points</th>\n",
              "      <th>cum_sum</th>\n",
              "      <th>calculated_point</th>\n",
              "      <th>Rank Name</th>\n",
              "      <th>Class ID</th>\n",
              "    </tr>\n",
              "  </thead>\n",
              "  <tbody>\n",
              "    <tr>\n",
              "      <th>404</th>\n",
              "      <td>2022-02-07</td>\n",
              "      <td>56150575.0</td>\n",
              "      <td>marketplace</td>\n",
              "      <td>957300.0</td>\n",
              "      <td>500.000</td>\n",
              "      <td>3190.819</td>\n",
              "      <td>1283.949</td>\n",
              "      <td>SILVER</td>\n",
              "      <td>2.0</td>\n",
              "    </tr>\n",
              "    <tr>\n",
              "      <th>431</th>\n",
              "      <td>2022-02-09</td>\n",
              "      <td>10184635.0</td>\n",
              "      <td>marketplace</td>\n",
              "      <td>162700.0</td>\n",
              "      <td>162.700</td>\n",
              "      <td>5052.940</td>\n",
              "      <td>1060.510</td>\n",
              "      <td>SILVER</td>\n",
              "      <td>2.0</td>\n",
              "    </tr>\n",
              "    <tr>\n",
              "      <th>432</th>\n",
              "      <td>2022-02-09</td>\n",
              "      <td>10184635.0</td>\n",
              "      <td>marketplace</td>\n",
              "      <td>192300.0</td>\n",
              "      <td>192.300</td>\n",
              "      <td>5245.240</td>\n",
              "      <td>1252.810</td>\n",
              "      <td>SILVER</td>\n",
              "      <td>2.0</td>\n",
              "    </tr>\n",
              "    <tr>\n",
              "      <th>435</th>\n",
              "      <td>2022-02-12</td>\n",
              "      <td>10184635.0</td>\n",
              "      <td>marketplace</td>\n",
              "      <td>216000.0</td>\n",
              "      <td>216.000</td>\n",
              "      <td>5461.240</td>\n",
              "      <td>1468.810</td>\n",
              "      <td>SILVER</td>\n",
              "      <td>2.0</td>\n",
              "    </tr>\n",
              "    <tr>\n",
              "      <th>436</th>\n",
              "      <td>2022-02-12</td>\n",
              "      <td>10184635.0</td>\n",
              "      <td>marketplace</td>\n",
              "      <td>64996.0</td>\n",
              "      <td>64.996</td>\n",
              "      <td>5526.236</td>\n",
              "      <td>1533.806</td>\n",
              "      <td>SILVER</td>\n",
              "      <td>2.0</td>\n",
              "    </tr>\n",
              "  </tbody>\n",
              "</table>\n",
              "</div>"
            ],
            "text/plain": [
              "          DATE     User_id Service Group       GMV  Loyalty Points   cum_sum  \\\n",
              "404 2022-02-07  56150575.0   marketplace  957300.0         500.000  3190.819   \n",
              "431 2022-02-09  10184635.0   marketplace  162700.0         162.700  5052.940   \n",
              "432 2022-02-09  10184635.0   marketplace  192300.0         192.300  5245.240   \n",
              "435 2022-02-12  10184635.0   marketplace  216000.0         216.000  5461.240   \n",
              "436 2022-02-12  10184635.0   marketplace   64996.0          64.996  5526.236   \n",
              "\n",
              "     calculated_point Rank Name  Class ID  \n",
              "404          1283.949    SILVER       2.0  \n",
              "431          1060.510    SILVER       2.0  \n",
              "432          1252.810    SILVER       2.0  \n",
              "435          1468.810    SILVER       2.0  \n",
              "436          1533.806    SILVER       2.0  "
            ]
          },
          "execution_count": 36,
          "metadata": {},
          "output_type": "execute_result"
        }
      ],
      "source": [
        "equiv={\"STANDARD\":1,\"SILVER\":2,\"GOLD\":3,\"DIAMOND\":4}\n",
        "valid_trans['Class ID']= valid_trans['Rank Name'].map(equiv)\n",
        "valid_trans=valid_trans.loc[valid_trans['Class ID']>1,:]\n",
        "#benefit for SILVER or more only\n",
        "valid_trans.head()"
      ]
    },
    {
      "cell_type": "code",
      "execution_count": null,
      "id": "e56d0d98",
      "metadata": {
        "id": "e56d0d98"
      },
      "outputs": [],
      "source": [
        "benefit.rename(columns={'Group':'Service Group'},inplace=True)"
      ]
    },
    {
      "cell_type": "code",
      "execution_count": null,
      "id": "05d47e3f",
      "metadata": {
        "scrolled": true,
        "id": "05d47e3f",
        "outputId": "22515d98-ad0c-4f7c-b5d6-3b081ecc4fc4"
      },
      "outputs": [
        {
          "data": {
            "text/html": [
              "<div>\n",
              "<style scoped>\n",
              "    .dataframe tbody tr th:only-of-type {\n",
              "        vertical-align: middle;\n",
              "    }\n",
              "\n",
              "    .dataframe tbody tr th {\n",
              "        vertical-align: top;\n",
              "    }\n",
              "\n",
              "    .dataframe thead th {\n",
              "        text-align: right;\n",
              "    }\n",
              "</style>\n",
              "<table border=\"1\" class=\"dataframe\">\n",
              "  <thead>\n",
              "    <tr style=\"text-align: right;\">\n",
              "      <th></th>\n",
              "      <th>DATE</th>\n",
              "      <th>User_id</th>\n",
              "      <th>Service Group</th>\n",
              "      <th>GMV</th>\n",
              "      <th>Loyalty Points</th>\n",
              "      <th>cum_sum</th>\n",
              "      <th>calculated_point</th>\n",
              "      <th>Rank Name</th>\n",
              "      <th>Class ID</th>\n",
              "      <th>%cashback</th>\n",
              "    </tr>\n",
              "  </thead>\n",
              "  <tbody>\n",
              "    <tr>\n",
              "      <th>0</th>\n",
              "      <td>2022-02-07</td>\n",
              "      <td>56150575.0</td>\n",
              "      <td>marketplace</td>\n",
              "      <td>957300.0</td>\n",
              "      <td>500.000</td>\n",
              "      <td>3190.819</td>\n",
              "      <td>1283.949</td>\n",
              "      <td>SILVER</td>\n",
              "      <td>2.0</td>\n",
              "      <td>NaN</td>\n",
              "    </tr>\n",
              "    <tr>\n",
              "      <th>1</th>\n",
              "      <td>2022-02-09</td>\n",
              "      <td>10184635.0</td>\n",
              "      <td>marketplace</td>\n",
              "      <td>162700.0</td>\n",
              "      <td>162.700</td>\n",
              "      <td>5052.940</td>\n",
              "      <td>1060.510</td>\n",
              "      <td>SILVER</td>\n",
              "      <td>2.0</td>\n",
              "      <td>NaN</td>\n",
              "    </tr>\n",
              "    <tr>\n",
              "      <th>2</th>\n",
              "      <td>2022-02-09</td>\n",
              "      <td>10184635.0</td>\n",
              "      <td>marketplace</td>\n",
              "      <td>192300.0</td>\n",
              "      <td>192.300</td>\n",
              "      <td>5245.240</td>\n",
              "      <td>1252.810</td>\n",
              "      <td>SILVER</td>\n",
              "      <td>2.0</td>\n",
              "      <td>NaN</td>\n",
              "    </tr>\n",
              "    <tr>\n",
              "      <th>3</th>\n",
              "      <td>2022-02-12</td>\n",
              "      <td>10184635.0</td>\n",
              "      <td>marketplace</td>\n",
              "      <td>216000.0</td>\n",
              "      <td>216.000</td>\n",
              "      <td>5461.240</td>\n",
              "      <td>1468.810</td>\n",
              "      <td>SILVER</td>\n",
              "      <td>2.0</td>\n",
              "      <td>NaN</td>\n",
              "    </tr>\n",
              "    <tr>\n",
              "      <th>4</th>\n",
              "      <td>2022-02-12</td>\n",
              "      <td>10184635.0</td>\n",
              "      <td>marketplace</td>\n",
              "      <td>64996.0</td>\n",
              "      <td>64.996</td>\n",
              "      <td>5526.236</td>\n",
              "      <td>1533.806</td>\n",
              "      <td>SILVER</td>\n",
              "      <td>2.0</td>\n",
              "      <td>NaN</td>\n",
              "    </tr>\n",
              "  </tbody>\n",
              "</table>\n",
              "</div>"
            ],
            "text/plain": [
              "        DATE     User_id Service Group       GMV  Loyalty Points   cum_sum  \\\n",
              "0 2022-02-07  56150575.0   marketplace  957300.0         500.000  3190.819   \n",
              "1 2022-02-09  10184635.0   marketplace  162700.0         162.700  5052.940   \n",
              "2 2022-02-09  10184635.0   marketplace  192300.0         192.300  5245.240   \n",
              "3 2022-02-12  10184635.0   marketplace  216000.0         216.000  5461.240   \n",
              "4 2022-02-12  10184635.0   marketplace   64996.0          64.996  5526.236   \n",
              "\n",
              "   calculated_point Rank Name  Class ID  %cashback  \n",
              "0          1283.949    SILVER       2.0        NaN  \n",
              "1          1060.510    SILVER       2.0        NaN  \n",
              "2          1252.810    SILVER       2.0        NaN  \n",
              "3          1468.810    SILVER       2.0        NaN  \n",
              "4          1533.806    SILVER       2.0        NaN  "
            ]
          },
          "execution_count": 38,
          "metadata": {},
          "output_type": "execute_result"
        }
      ],
      "source": [
        "valid_trans=pd.merge(valid_trans,benefit,how='left',on=['Service Group','Class ID'])\n",
        "valid_trans.head()"
      ]
    },
    {
      "cell_type": "code",
      "execution_count": null,
      "id": "e6279fd5",
      "metadata": {
        "id": "e6279fd5"
      },
      "outputs": [],
      "source": [
        "valid_trans['%cashback']=valid_trans['%cashback'].fillna(0)\n",
        "valid_trans['cashback']=valid_trans['GMV']*valid_trans['%cashback']/100\n",
        "valid_trans['real_cashback']=valid_trans['cashback'].apply(lambda x: x if x<10000 else 10000)"
      ]
    },
    {
      "cell_type": "code",
      "execution_count": null,
      "id": "f0537d5d",
      "metadata": {
        "id": "f0537d5d",
        "outputId": "c87f14ca-ef85-4406-bc5b-1b84ef00cde3"
      },
      "outputs": [
        {
          "data": {
            "text/html": [
              "<div>\n",
              "<style scoped>\n",
              "    .dataframe tbody tr th:only-of-type {\n",
              "        vertical-align: middle;\n",
              "    }\n",
              "\n",
              "    .dataframe tbody tr th {\n",
              "        vertical-align: top;\n",
              "    }\n",
              "\n",
              "    .dataframe thead th {\n",
              "        text-align: right;\n",
              "    }\n",
              "</style>\n",
              "<table border=\"1\" class=\"dataframe\">\n",
              "  <thead>\n",
              "    <tr style=\"text-align: right;\">\n",
              "      <th></th>\n",
              "      <th>DATE</th>\n",
              "      <th>User_id</th>\n",
              "      <th>Service Group</th>\n",
              "      <th>GMV</th>\n",
              "      <th>Loyalty Points</th>\n",
              "      <th>cum_sum</th>\n",
              "      <th>calculated_point</th>\n",
              "      <th>Rank Name</th>\n",
              "      <th>Class ID</th>\n",
              "      <th>%cashback</th>\n",
              "      <th>cashback</th>\n",
              "      <th>real_cashback</th>\n",
              "    </tr>\n",
              "  </thead>\n",
              "  <tbody>\n",
              "    <tr>\n",
              "      <th>0</th>\n",
              "      <td>2022-02-07</td>\n",
              "      <td>56150575.0</td>\n",
              "      <td>marketplace</td>\n",
              "      <td>957300.0</td>\n",
              "      <td>500.000</td>\n",
              "      <td>3190.819</td>\n",
              "      <td>1283.949</td>\n",
              "      <td>SILVER</td>\n",
              "      <td>2.0</td>\n",
              "      <td>0.0</td>\n",
              "      <td>0.0</td>\n",
              "      <td>0.0</td>\n",
              "    </tr>\n",
              "    <tr>\n",
              "      <th>1</th>\n",
              "      <td>2022-02-09</td>\n",
              "      <td>10184635.0</td>\n",
              "      <td>marketplace</td>\n",
              "      <td>162700.0</td>\n",
              "      <td>162.700</td>\n",
              "      <td>5052.940</td>\n",
              "      <td>1060.510</td>\n",
              "      <td>SILVER</td>\n",
              "      <td>2.0</td>\n",
              "      <td>0.0</td>\n",
              "      <td>0.0</td>\n",
              "      <td>0.0</td>\n",
              "    </tr>\n",
              "    <tr>\n",
              "      <th>2</th>\n",
              "      <td>2022-02-09</td>\n",
              "      <td>10184635.0</td>\n",
              "      <td>marketplace</td>\n",
              "      <td>192300.0</td>\n",
              "      <td>192.300</td>\n",
              "      <td>5245.240</td>\n",
              "      <td>1252.810</td>\n",
              "      <td>SILVER</td>\n",
              "      <td>2.0</td>\n",
              "      <td>0.0</td>\n",
              "      <td>0.0</td>\n",
              "      <td>0.0</td>\n",
              "    </tr>\n",
              "    <tr>\n",
              "      <th>3</th>\n",
              "      <td>2022-02-12</td>\n",
              "      <td>10184635.0</td>\n",
              "      <td>marketplace</td>\n",
              "      <td>216000.0</td>\n",
              "      <td>216.000</td>\n",
              "      <td>5461.240</td>\n",
              "      <td>1468.810</td>\n",
              "      <td>SILVER</td>\n",
              "      <td>2.0</td>\n",
              "      <td>0.0</td>\n",
              "      <td>0.0</td>\n",
              "      <td>0.0</td>\n",
              "    </tr>\n",
              "    <tr>\n",
              "      <th>4</th>\n",
              "      <td>2022-02-12</td>\n",
              "      <td>10184635.0</td>\n",
              "      <td>marketplace</td>\n",
              "      <td>64996.0</td>\n",
              "      <td>64.996</td>\n",
              "      <td>5526.236</td>\n",
              "      <td>1533.806</td>\n",
              "      <td>SILVER</td>\n",
              "      <td>2.0</td>\n",
              "      <td>0.0</td>\n",
              "      <td>0.0</td>\n",
              "      <td>0.0</td>\n",
              "    </tr>\n",
              "  </tbody>\n",
              "</table>\n",
              "</div>"
            ],
            "text/plain": [
              "        DATE     User_id Service Group       GMV  Loyalty Points   cum_sum  \\\n",
              "0 2022-02-07  56150575.0   marketplace  957300.0         500.000  3190.819   \n",
              "1 2022-02-09  10184635.0   marketplace  162700.0         162.700  5052.940   \n",
              "2 2022-02-09  10184635.0   marketplace  192300.0         192.300  5245.240   \n",
              "3 2022-02-12  10184635.0   marketplace  216000.0         216.000  5461.240   \n",
              "4 2022-02-12  10184635.0   marketplace   64996.0          64.996  5526.236   \n",
              "\n",
              "   calculated_point Rank Name  Class ID  %cashback  cashback  real_cashback  \n",
              "0          1283.949    SILVER       2.0        0.0       0.0            0.0  \n",
              "1          1060.510    SILVER       2.0        0.0       0.0            0.0  \n",
              "2          1252.810    SILVER       2.0        0.0       0.0            0.0  \n",
              "3          1468.810    SILVER       2.0        0.0       0.0            0.0  \n",
              "4          1533.806    SILVER       2.0        0.0       0.0            0.0  "
            ]
          },
          "execution_count": 40,
          "metadata": {},
          "output_type": "execute_result"
        }
      ],
      "source": [
        "valid_trans.head()"
      ]
    },
    {
      "cell_type": "code",
      "execution_count": null,
      "id": "c4f56fa1",
      "metadata": {
        "id": "c4f56fa1",
        "outputId": "f8d18d4d-2e4a-4a58-f975-bb732b16b830"
      },
      "outputs": [
        {
          "name": "stdout",
          "output_type": "stream",
          "text": [
            "Total cashback on Feb 2022 is 4350390.529999999\n"
          ]
        }
      ],
      "source": [
        "tot_cashback_feb_2022=valid_trans['real_cashback'].sum()\n",
        "print(f'Total cashback on Feb 2022 is {tot_cashback_feb_2022}')"
      ]
    },
    {
      "cell_type": "markdown",
      "id": "166a9a82",
      "metadata": {
        "id": "166a9a82"
      },
      "source": [
        "### 3) Retention chart"
      ]
    },
    {
      "cell_type": "code",
      "execution_count": null,
      "id": "b7caac58",
      "metadata": {
        "id": "b7caac58"
      },
      "outputs": [],
      "source": [
        "retention=Loyal_Ranking[['DATE','User_id','GMV']]"
      ]
    },
    {
      "cell_type": "code",
      "execution_count": null,
      "id": "f21a4cd0",
      "metadata": {
        "id": "f21a4cd0"
      },
      "outputs": [],
      "source": [
        "retention=retention.groupby(['DATE','User_id'],as_index=False)['GMV'].sum()"
      ]
    },
    {
      "cell_type": "code",
      "execution_count": null,
      "id": "c446f9c2",
      "metadata": {
        "id": "c446f9c2",
        "outputId": "a916e0c4-2eca-4a3f-9500-7fb3300eed49"
      },
      "outputs": [
        {
          "data": {
            "text/html": [
              "<div>\n",
              "<style scoped>\n",
              "    .dataframe tbody tr th:only-of-type {\n",
              "        vertical-align: middle;\n",
              "    }\n",
              "\n",
              "    .dataframe tbody tr th {\n",
              "        vertical-align: top;\n",
              "    }\n",
              "\n",
              "    .dataframe thead th {\n",
              "        text-align: right;\n",
              "    }\n",
              "</style>\n",
              "<table border=\"1\" class=\"dataframe\">\n",
              "  <thead>\n",
              "    <tr style=\"text-align: right;\">\n",
              "      <th></th>\n",
              "      <th>DATE</th>\n",
              "      <th>User_id</th>\n",
              "      <th>GMV</th>\n",
              "    </tr>\n",
              "  </thead>\n",
              "  <tbody>\n",
              "    <tr>\n",
              "      <th>0</th>\n",
              "      <td>2021-01-01</td>\n",
              "      <td>108101.0</td>\n",
              "      <td>0.0</td>\n",
              "    </tr>\n",
              "    <tr>\n",
              "      <th>1</th>\n",
              "      <td>2021-01-01</td>\n",
              "      <td>136825.0</td>\n",
              "      <td>0.0</td>\n",
              "    </tr>\n",
              "    <tr>\n",
              "      <th>2</th>\n",
              "      <td>2021-01-01</td>\n",
              "      <td>138362.0</td>\n",
              "      <td>0.0</td>\n",
              "    </tr>\n",
              "    <tr>\n",
              "      <th>3</th>\n",
              "      <td>2021-01-01</td>\n",
              "      <td>162483.0</td>\n",
              "      <td>0.0</td>\n",
              "    </tr>\n",
              "    <tr>\n",
              "      <th>4</th>\n",
              "      <td>2021-01-01</td>\n",
              "      <td>171055.0</td>\n",
              "      <td>0.0</td>\n",
              "    </tr>\n",
              "  </tbody>\n",
              "</table>\n",
              "</div>"
            ],
            "text/plain": [
              "        DATE   User_id  GMV\n",
              "0 2021-01-01  108101.0  0.0\n",
              "1 2021-01-01  136825.0  0.0\n",
              "2 2021-01-01  138362.0  0.0\n",
              "3 2021-01-01  162483.0  0.0\n",
              "4 2021-01-01  171055.0  0.0"
            ]
          },
          "execution_count": 44,
          "metadata": {},
          "output_type": "execute_result"
        }
      ],
      "source": [
        "retention.head()"
      ]
    },
    {
      "cell_type": "code",
      "execution_count": null,
      "id": "3d0924e2",
      "metadata": {
        "id": "3d0924e2"
      },
      "outputs": [],
      "source": [
        "df=[]\n",
        "week=1\n",
        "for i in range(0,date.shape[0],7):\n",
        "    listing={}\n",
        "    a=date.loc[i,:]['DATE']\n",
        "    if i+6>453: b=date.loc[i+5,:]['DATE']\n",
        "    else: b=date.loc[i+6,:]['DATE']\n",
        "    weekly=retention.loc[(retention['DATE']>=a)&(retention['DATE']<=b),:]\n",
        "    active_user=len(weekly[weekly['GMV']!=0])\n",
        "    listing['week']=week\n",
        "    listing['percent']=active_user/len(unique_user)*100\n",
        "    df.append(listing)\n",
        "    week+=1"
      ]
    },
    {
      "cell_type": "code",
      "execution_count": null,
      "id": "f462a692",
      "metadata": {
        "id": "f462a692",
        "outputId": "ff6e3030-266d-49f9-c9cf-6139e4486eac"
      },
      "outputs": [
        {
          "data": {
            "text/html": [
              "<div>\n",
              "<style scoped>\n",
              "    .dataframe tbody tr th:only-of-type {\n",
              "        vertical-align: middle;\n",
              "    }\n",
              "\n",
              "    .dataframe tbody tr th {\n",
              "        vertical-align: top;\n",
              "    }\n",
              "\n",
              "    .dataframe thead th {\n",
              "        text-align: right;\n",
              "    }\n",
              "</style>\n",
              "<table border=\"1\" class=\"dataframe\">\n",
              "  <thead>\n",
              "    <tr style=\"text-align: right;\">\n",
              "      <th></th>\n",
              "      <th>week</th>\n",
              "      <th>percent</th>\n",
              "    </tr>\n",
              "  </thead>\n",
              "  <tbody>\n",
              "    <tr>\n",
              "      <th>0</th>\n",
              "      <td>1</td>\n",
              "      <td>1.389103</td>\n",
              "    </tr>\n",
              "    <tr>\n",
              "      <th>1</th>\n",
              "      <td>2</td>\n",
              "      <td>1.111283</td>\n",
              "    </tr>\n",
              "    <tr>\n",
              "      <th>2</th>\n",
              "      <td>3</td>\n",
              "      <td>1.296496</td>\n",
              "    </tr>\n",
              "    <tr>\n",
              "      <th>3</th>\n",
              "      <td>4</td>\n",
              "      <td>1.219324</td>\n",
              "    </tr>\n",
              "    <tr>\n",
              "      <th>4</th>\n",
              "      <td>5</td>\n",
              "      <td>1.358234</td>\n",
              "    </tr>\n",
              "  </tbody>\n",
              "</table>\n",
              "</div>"
            ],
            "text/plain": [
              "   week   percent\n",
              "0     1  1.389103\n",
              "1     2  1.111283\n",
              "2     3  1.296496\n",
              "3     4  1.219324\n",
              "4     5  1.358234"
            ]
          },
          "execution_count": 46,
          "metadata": {},
          "output_type": "execute_result"
        }
      ],
      "source": [
        "retention_tracking=pd.DataFrame(df)\n",
        "retention_tracking.head()"
      ]
    },
    {
      "cell_type": "code",
      "execution_count": null,
      "id": "cf51e9ed",
      "metadata": {
        "id": "cf51e9ed",
        "outputId": "9b89a1ef-12ff-4b8a-992b-6ab57bcfcd7d"
      },
      "outputs": [
        {
          "data": {
            "image/png": "[encoded data removed]",
            "text/plain": [
              "<Figure size 1440x720 with 1 Axes>"
            ]
          },
          "metadata": {
            "needs_background": "light"
          },
          "output_type": "display_data"
        }
      ],
      "source": [
        "plt.figure(figsize=(20,10))\n",
        "plt.plot(retention_tracking['week'],retention_tracking['percent'])\n",
        "plt.title('Weekly Retention Chart Tracking')\n",
        "plt.xlabel('Week')\n",
        "plt.ylabel('Percentage of active user')\n",
        "plt.show()"
      ]
    },
    {
      "cell_type": "markdown",
      "id": "0f28ae1f",
      "metadata": {
        "id": "0f28ae1f"
      },
      "source": [
        "# Analyze and comment"
      ]
    },
    {
      "cell_type": "markdown",
      "id": "d20761eb",
      "metadata": {
        "id": "d20761eb"
      },
      "source": [
        "I will analyze by each batch of rank name: Standard, Silver, Gold, and Diamond (taking at the end of March 2023)"
      ]
    },
    {
      "cell_type": "code",
      "execution_count": null,
      "id": "9f9c47ab",
      "metadata": {
        "id": "9f9c47ab"
      },
      "outputs": [],
      "source": [
        "standard=end_of_march.loc[end_of_march['Rank Name']=='STANDARD','User_id'].unique()"
      ]
    },
    {
      "cell_type": "code",
      "execution_count": null,
      "id": "0cfb2535",
      "metadata": {
        "id": "0cfb2535"
      },
      "outputs": [],
      "source": [
        "silver=end_of_march.loc[end_of_march['Rank Name']=='SILVER','User_id'].unique()"
      ]
    },
    {
      "cell_type": "code",
      "execution_count": null,
      "id": "18b75d0d",
      "metadata": {
        "id": "18b75d0d"
      },
      "outputs": [],
      "source": [
        "gold=end_of_march.loc[end_of_march['Rank Name']=='GOLD','User_id'].unique()"
      ]
    },
    {
      "cell_type": "code",
      "execution_count": null,
      "id": "50991e7c",
      "metadata": {
        "id": "50991e7c"
      },
      "outputs": [],
      "source": [
        "diamond=end_of_march.loc[end_of_march['Rank Name']=='DIAMOND','User_id'].unique()"
      ]
    },
    {
      "cell_type": "code",
      "execution_count": null,
      "id": "37965752",
      "metadata": {
        "id": "37965752"
      },
      "outputs": [],
      "source": [
        "batch_standard=Loyal_Ranking.loc[Loyal_Ranking['User_id'].isin(standard[:5]),['DATE','User_id','calculated_point']]\n",
        "batch_standard=batch_standard.groupby(['DATE','User_id'],as_index=False)['calculated_point'].sum()\n",
        "batch_standard['Rank name']=batch_standard.apply(rank,axis=1)\n",
        "batch_standard['Rank name']=batch_standard['Rank name'].fillna('INACTIVE')\n",
        "mapping={\"INACTIVE\":0,\"STANDARD\":1,\"SILVER\":2,\"GOLD\":3,\"DIAMOND\":4}\n",
        "batch_standard['Class ID']= batch_standard['Rank name'].map(mapping)\n"
      ]
    },
    {
      "cell_type": "code",
      "execution_count": null,
      "id": "2135b975",
      "metadata": {
        "id": "2135b975",
        "outputId": "2bc4bdd4-b4d6-4f0b-c03f-2e5881c9482d"
      },
      "outputs": [
        {
          "data": {
            "image/png": "[encoded data removed]",
            "text/plain": [
              "<Figure size 1440x720 with 1 Axes>"
            ]
          },
          "metadata": {
            "needs_background": "light"
          },
          "output_type": "display_data"
        }
      ],
      "source": [
        "plt.figure(figsize=(20,10))\n",
        "sns.lineplot(x='DATE',y='Class ID',hue='User_id',data=batch_standard,palette=\"rainbow\")\n",
        "plt.title(\"STANDARD MEMBER\")\n",
        "plt.show()"
      ]
    },
    {
      "cell_type": "code",
      "execution_count": null,
      "id": "97980131",
      "metadata": {
        "id": "97980131"
      },
      "outputs": [],
      "source": [
        "batch_silver=Loyal_Ranking.loc[Loyal_Ranking['User_id'].isin(silver[:5]),['DATE','User_id','calculated_point']]\n",
        "batch_silver=batch_silver.groupby(['DATE','User_id'],as_index=False)['calculated_point'].sum()\n",
        "batch_silver['Rank name']=batch_silver.apply(rank,axis=1)\n",
        "batch_silver['Rank name']=batch_silver['Rank name'].fillna('INACTIVE')\n",
        "mapping={\"INACTIVE\":0,\"STANDARD\":1,\"SILVER\":2,\"GOLD\":3,\"DIAMOND\":4}\n",
        "batch_silver['Class ID']= batch_silver['Rank name'].map(mapping)"
      ]
    },
    {
      "cell_type": "code",
      "execution_count": null,
      "id": "f5411cbd",
      "metadata": {
        "id": "f5411cbd",
        "outputId": "c348190d-da7e-4141-a5b3-bee9bf731907"
      },
      "outputs": [
        {
          "data": {
            "image/png": "[encoded data removed]",
            "text/plain": [
              "<Figure size 1440x720 with 1 Axes>"
            ]
          },
          "metadata": {
            "needs_background": "light"
          },
          "output_type": "display_data"
        }
      ],
      "source": [
        "plt.figure(figsize=(20,10))\n",
        "sns.lineplot(x='DATE',y='Class ID',hue='User_id',data=batch_silver,palette=\"rainbow\")\n",
        "plt.title(\"SILVER MEMBER\")\n",
        "plt.show()"
      ]
    },
    {
      "cell_type": "code",
      "execution_count": null,
      "id": "996404c2",
      "metadata": {
        "id": "996404c2"
      },
      "outputs": [],
      "source": [
        "batch_gold=Loyal_Ranking.loc[Loyal_Ranking['User_id'].isin(gold[:5]),['DATE','User_id','calculated_point']]\n",
        "batch_gold=batch_gold.groupby(['DATE','User_id'],as_index=False)['calculated_point'].sum()\n",
        "batch_gold['Rank name']=batch_gold.apply(rank,axis=1)\n",
        "batch_gold['Rank name']=batch_gold['Rank name'].fillna('INACTIVE')\n",
        "mapping={\"INACTIVE\":0,\"STANDARD\":1,\"SILVER\":2,\"GOLD\":3,\"DIAMOND\":4}\n",
        "batch_gold['Class ID']= batch_gold['Rank name'].map(mapping)"
      ]
    },
    {
      "cell_type": "code",
      "execution_count": null,
      "id": "a050f831",
      "metadata": {
        "id": "a050f831",
        "outputId": "dc7d0ebb-1764-4d20-de2a-50534b4ad38a"
      },
      "outputs": [
        {
          "data": {
            "image/png": "[encoded data removed]",
            "text/plain": [
              "<Figure size 1440x720 with 1 Axes>"
            ]
          },
          "metadata": {
            "needs_background": "light"
          },
          "output_type": "display_data"
        }
      ],
      "source": [
        "plt.figure(figsize=(20,10))\n",
        "sns.lineplot(x='DATE',y='Class ID',hue='User_id',data=batch_gold,palette=\"rainbow\")\n",
        "plt.title(\"GOLD MEMBER\")\n",
        "plt.show()"
      ]
    },
    {
      "cell_type": "code",
      "execution_count": null,
      "id": "c986f7ae",
      "metadata": {
        "id": "c986f7ae"
      },
      "outputs": [],
      "source": [
        "batch_diamond=Loyal_Ranking.loc[Loyal_Ranking['User_id'].isin(diamond[:5]),['DATE','User_id','calculated_point']]\n",
        "batch_diamond=batch_diamond.groupby(['DATE','User_id'],as_index=False)['calculated_point'].sum()\n",
        "batch_diamond['Rank name']=batch_diamond.apply(rank,axis=1)\n",
        "batch_diamond['Rank name']=batch_diamond['Rank name'].fillna('INACTIVE')\n",
        "mapping={\"INACTIVE\":0,\"STANDARD\":1,\"SILVER\":2,\"GOLD\":3,\"DIAMOND\":4}\n",
        "batch_diamond['Class ID']= batch_diamond['Rank name'].map(mapping)"
      ]
    },
    {
      "cell_type": "code",
      "execution_count": null,
      "id": "d8532e48",
      "metadata": {
        "id": "d8532e48",
        "outputId": "a9988b10-a8c6-477f-e11a-b3da2733b4c5"
      },
      "outputs": [
        {
          "data": {
            "image/png": "[encoded data removed]",
            "text/plain": [
              "<Figure size 1440x720 with 1 Axes>"
            ]
          },
          "metadata": {
            "needs_background": "light"
          },
          "output_type": "display_data"
        }
      ],
      "source": [
        "plt.figure(figsize=(20,10))\n",
        "sns.lineplot(x='DATE',y='Class ID',hue='User_id',data=batch_diamond,palette=\"rainbow\")\n",
        "plt.title(\"DIAMOND MEMBER\")\n",
        "plt.show()"
      ]
    },
    {
      "cell_type": "markdown",
      "id": "fba16bc0",
      "metadata": {
        "id": "fba16bc0"
      },
      "source": [
        "From those 4 graphs, we can gain some conclusions:\n",
        " > - Class ID of **2 (Silver) is a critical class** which will determine whether the customer will maintain and push for higher class.\n",
        " \n",
        " > - As the customers reach the high class (Gold and Diamond), where they have lots of benefit, they tend to **maintain their class(retention)**.(up-down is maintained around class ID of 3 and 4 once they reach there).\n",
        " \n",
        " > - On the other hand, customers who have **class of 1(Standard)** seem do not care a lot about the **Loyalty program** and just purchase when needed. (lots of unpredictable up-down pattern on Standard and Silver Batch).\n",
        " \n",
        " > - The strategy that marketing team can take is: **strongly focus pushing marketing ads and promotion to stimulate the power of buying when customers reach Class ID of 2(Silver)**.\n"
      ]
    },
    {
      "cell_type": "code",
      "execution_count": null,
      "id": "89b1e96d",
      "metadata": {
        "id": "89b1e96d",
        "outputId": "cc4fb5b2-af34-4bbc-8625-18f77ced76fc"
      },
      "outputs": [
        {
          "data": {
            "text/html": [
              "<div>\n",
              "<style scoped>\n",
              "    .dataframe tbody tr th:only-of-type {\n",
              "        vertical-align: middle;\n",
              "    }\n",
              "\n",
              "    .dataframe tbody tr th {\n",
              "        vertical-align: top;\n",
              "    }\n",
              "\n",
              "    .dataframe thead th {\n",
              "        text-align: right;\n",
              "    }\n",
              "</style>\n",
              "<table border=\"1\" class=\"dataframe\">\n",
              "  <thead>\n",
              "    <tr style=\"text-align: right;\">\n",
              "      <th></th>\n",
              "      <th>DATE</th>\n",
              "      <th>User_id</th>\n",
              "      <th>Service Group</th>\n",
              "      <th>GMV</th>\n",
              "      <th>Loyalty Points</th>\n",
              "      <th>cum_sum</th>\n",
              "      <th>calculated_point</th>\n",
              "      <th>Rank Name</th>\n",
              "    </tr>\n",
              "  </thead>\n",
              "  <tbody>\n",
              "    <tr>\n",
              "      <th>0</th>\n",
              "      <td>2021-01-01</td>\n",
              "      <td>61386143.0</td>\n",
              "      <td>marketplace</td>\n",
              "      <td>100000.0</td>\n",
              "      <td>100.0</td>\n",
              "      <td>100.0</td>\n",
              "      <td>100.0</td>\n",
              "      <td>STANDARD</td>\n",
              "    </tr>\n",
              "    <tr>\n",
              "      <th>1</th>\n",
              "      <td>2021-01-02</td>\n",
              "      <td>61386143.0</td>\n",
              "      <td>NaN</td>\n",
              "      <td>0.0</td>\n",
              "      <td>0.0</td>\n",
              "      <td>100.0</td>\n",
              "      <td>100.0</td>\n",
              "      <td>STANDARD</td>\n",
              "    </tr>\n",
              "    <tr>\n",
              "      <th>2</th>\n",
              "      <td>2021-01-03</td>\n",
              "      <td>61386143.0</td>\n",
              "      <td>data</td>\n",
              "      <td>10000.0</td>\n",
              "      <td>100.0</td>\n",
              "      <td>200.0</td>\n",
              "      <td>200.0</td>\n",
              "      <td>STANDARD</td>\n",
              "    </tr>\n",
              "    <tr>\n",
              "      <th>3</th>\n",
              "      <td>2021-01-04</td>\n",
              "      <td>61386143.0</td>\n",
              "      <td>NaN</td>\n",
              "      <td>0.0</td>\n",
              "      <td>0.0</td>\n",
              "      <td>200.0</td>\n",
              "      <td>200.0</td>\n",
              "      <td>STANDARD</td>\n",
              "    </tr>\n",
              "    <tr>\n",
              "      <th>4</th>\n",
              "      <td>2021-01-05</td>\n",
              "      <td>61386143.0</td>\n",
              "      <td>NaN</td>\n",
              "      <td>0.0</td>\n",
              "      <td>0.0</td>\n",
              "      <td>200.0</td>\n",
              "      <td>200.0</td>\n",
              "      <td>STANDARD</td>\n",
              "    </tr>\n",
              "  </tbody>\n",
              "</table>\n",
              "</div>"
            ],
            "text/plain": [
              "        DATE     User_id Service Group       GMV  Loyalty Points  cum_sum  \\\n",
              "0 2021-01-01  61386143.0   marketplace  100000.0           100.0    100.0   \n",
              "1 2021-01-02  61386143.0           NaN       0.0             0.0    100.0   \n",
              "2 2021-01-03  61386143.0          data   10000.0           100.0    200.0   \n",
              "3 2021-01-04  61386143.0           NaN       0.0             0.0    200.0   \n",
              "4 2021-01-05  61386143.0           NaN       0.0             0.0    200.0   \n",
              "\n",
              "   calculated_point Rank Name  \n",
              "0             100.0  STANDARD  \n",
              "1             100.0  STANDARD  \n",
              "2             200.0  STANDARD  \n",
              "3             200.0  STANDARD  \n",
              "4             200.0  STANDARD  "
            ]
          },
          "execution_count": 60,
          "metadata": {},
          "output_type": "execute_result"
        }
      ],
      "source": [
        "Loyal_Ranking.head()"
      ]
    },
    {
      "cell_type": "code",
      "execution_count": null,
      "id": "decf6fd0",
      "metadata": {
        "id": "decf6fd0",
        "outputId": "2904e447-e65a-4898-f8ff-38a0b21999a8"
      },
      "outputs": [
        {
          "name": "stderr",
          "output_type": "stream",
          "text": [
            "/var/folders/mt/pl4zs_qn1px061cxgp0z1h9r0000gn/T/ipykernel_14667/839989319.py:2: SettingWithCopyWarning: \n",
            "A value is trying to be set on a copy of a slice from a DataFrame.\n",
            "Try using .loc[row_indexer,col_indexer] = value instead\n",
            "\n",
            "See the caveats in the documentation: https://pandas.pydata.org/pandas-docs/stable/user_guide/indexing.html#returning-a-view-versus-a-copy\n",
            "  trans['Class ID']= trans['Rank Name'].map(equiv)\n"
          ]
        },
        {
          "data": {
            "text/html": [
              "<div>\n",
              "<style scoped>\n",
              "    .dataframe tbody tr th:only-of-type {\n",
              "        vertical-align: middle;\n",
              "    }\n",
              "\n",
              "    .dataframe tbody tr th {\n",
              "        vertical-align: top;\n",
              "    }\n",
              "\n",
              "    .dataframe thead th {\n",
              "        text-align: right;\n",
              "    }\n",
              "</style>\n",
              "<table border=\"1\" class=\"dataframe\">\n",
              "  <thead>\n",
              "    <tr style=\"text-align: right;\">\n",
              "      <th></th>\n",
              "      <th>DATE</th>\n",
              "      <th>User_id</th>\n",
              "      <th>Service Group</th>\n",
              "      <th>GMV</th>\n",
              "      <th>Loyalty Points</th>\n",
              "      <th>cum_sum</th>\n",
              "      <th>calculated_point</th>\n",
              "      <th>Rank Name</th>\n",
              "      <th>Class ID</th>\n",
              "      <th>%cashback</th>\n",
              "    </tr>\n",
              "  </thead>\n",
              "  <tbody>\n",
              "    <tr>\n",
              "      <th>0</th>\n",
              "      <td>2021-12-23</td>\n",
              "      <td>36415344.0</td>\n",
              "      <td>marketplace</td>\n",
              "      <td>360000.0</td>\n",
              "      <td>360.000</td>\n",
              "      <td>2725.770</td>\n",
              "      <td>1026.000</td>\n",
              "      <td>SILVER</td>\n",
              "      <td>2.0</td>\n",
              "      <td>NaN</td>\n",
              "    </tr>\n",
              "    <tr>\n",
              "      <th>1</th>\n",
              "      <td>2021-06-30</td>\n",
              "      <td>61267321.0</td>\n",
              "      <td>marketplace</td>\n",
              "      <td>607262.0</td>\n",
              "      <td>500.000</td>\n",
              "      <td>1950.000</td>\n",
              "      <td>1450.000</td>\n",
              "      <td>SILVER</td>\n",
              "      <td>2.0</td>\n",
              "      <td>NaN</td>\n",
              "    </tr>\n",
              "    <tr>\n",
              "      <th>2</th>\n",
              "      <td>2021-06-30</td>\n",
              "      <td>61267321.0</td>\n",
              "      <td>supermarket</td>\n",
              "      <td>300000.0</td>\n",
              "      <td>300.000</td>\n",
              "      <td>2250.000</td>\n",
              "      <td>1750.000</td>\n",
              "      <td>SILVER</td>\n",
              "      <td>2.0</td>\n",
              "      <td>NaN</td>\n",
              "    </tr>\n",
              "    <tr>\n",
              "      <th>3</th>\n",
              "      <td>2021-07-15</td>\n",
              "      <td>61267321.0</td>\n",
              "      <td>marketplace</td>\n",
              "      <td>296215.0</td>\n",
              "      <td>296.215</td>\n",
              "      <td>2546.215</td>\n",
              "      <td>2046.215</td>\n",
              "      <td>GOLD</td>\n",
              "      <td>3.0</td>\n",
              "      <td>2.0</td>\n",
              "    </tr>\n",
              "    <tr>\n",
              "      <th>4</th>\n",
              "      <td>2021-07-17</td>\n",
              "      <td>61267321.0</td>\n",
              "      <td>marketplace</td>\n",
              "      <td>473361.0</td>\n",
              "      <td>473.361</td>\n",
              "      <td>3019.576</td>\n",
              "      <td>2519.576</td>\n",
              "      <td>GOLD</td>\n",
              "      <td>3.0</td>\n",
              "      <td>2.0</td>\n",
              "    </tr>\n",
              "  </tbody>\n",
              "</table>\n",
              "</div>"
            ],
            "text/plain": [
              "        DATE     User_id Service Group       GMV  Loyalty Points   cum_sum  \\\n",
              "0 2021-12-23  36415344.0   marketplace  360000.0         360.000  2725.770   \n",
              "1 2021-06-30  61267321.0   marketplace  607262.0         500.000  1950.000   \n",
              "2 2021-06-30  61267321.0   supermarket  300000.0         300.000  2250.000   \n",
              "3 2021-07-15  61267321.0   marketplace  296215.0         296.215  2546.215   \n",
              "4 2021-07-17  61267321.0   marketplace  473361.0         473.361  3019.576   \n",
              "\n",
              "   calculated_point Rank Name  Class ID  %cashback  \n",
              "0          1026.000    SILVER       2.0        NaN  \n",
              "1          1450.000    SILVER       2.0        NaN  \n",
              "2          1750.000    SILVER       2.0        NaN  \n",
              "3          2046.215      GOLD       3.0        2.0  \n",
              "4          2519.576      GOLD       3.0        2.0  "
            ]
          },
          "execution_count": 61,
          "metadata": {},
          "output_type": "execute_result"
        }
      ],
      "source": [
        "trans= Loyal_Ranking.loc[Loyal_Ranking['GMV']!=0,:]\n",
        "trans['Class ID']= trans['Rank Name'].map(equiv)\n",
        "trans=trans.loc[trans['Class ID']>1,:]\n",
        "#benefit for SILVER or more only\n",
        "trans=pd.merge(trans,benefit,how='left',on=['Service Group','Class ID'])\n",
        "trans.head()"
      ]
    },
    {
      "cell_type": "code",
      "execution_count": null,
      "id": "7b6707b4",
      "metadata": {
        "id": "7b6707b4"
      },
      "outputs": [],
      "source": [
        "trans['%cashback']=trans['%cashback'].fillna(0)\n",
        "trans['cashback']=trans['GMV']*trans['%cashback']/100\n",
        "trans['real_cashback']=trans['cashback'].apply(lambda x: x if x<10000 else 10000)"
      ]
    },
    {
      "cell_type": "code",
      "execution_count": null,
      "id": "61791e07",
      "metadata": {
        "id": "61791e07",
        "outputId": "7204d3c9-0730-4715-9516-7aebef86b9a3"
      },
      "outputs": [
        {
          "data": {
            "text/html": [
              "<div>\n",
              "<style scoped>\n",
              "    .dataframe tbody tr th:only-of-type {\n",
              "        vertical-align: middle;\n",
              "    }\n",
              "\n",
              "    .dataframe tbody tr th {\n",
              "        vertical-align: top;\n",
              "    }\n",
              "\n",
              "    .dataframe thead th {\n",
              "        text-align: right;\n",
              "    }\n",
              "</style>\n",
              "<table border=\"1\" class=\"dataframe\">\n",
              "  <thead>\n",
              "    <tr style=\"text-align: right;\">\n",
              "      <th></th>\n",
              "      <th>DATE</th>\n",
              "      <th>User_id</th>\n",
              "      <th>Service Group</th>\n",
              "      <th>GMV</th>\n",
              "      <th>Loyalty Points</th>\n",
              "      <th>cum_sum</th>\n",
              "      <th>calculated_point</th>\n",
              "      <th>Rank Name</th>\n",
              "      <th>Class ID</th>\n",
              "      <th>%cashback</th>\n",
              "      <th>cashback</th>\n",
              "      <th>real_cashback</th>\n",
              "    </tr>\n",
              "  </thead>\n",
              "  <tbody>\n",
              "    <tr>\n",
              "      <th>0</th>\n",
              "      <td>2021-12-23</td>\n",
              "      <td>36415344.0</td>\n",
              "      <td>marketplace</td>\n",
              "      <td>360000.0</td>\n",
              "      <td>360.000</td>\n",
              "      <td>2725.770</td>\n",
              "      <td>1026.000</td>\n",
              "      <td>SILVER</td>\n",
              "      <td>2.0</td>\n",
              "      <td>0.0</td>\n",
              "      <td>0.00</td>\n",
              "      <td>0.00</td>\n",
              "    </tr>\n",
              "    <tr>\n",
              "      <th>1</th>\n",
              "      <td>2021-06-30</td>\n",
              "      <td>61267321.0</td>\n",
              "      <td>marketplace</td>\n",
              "      <td>607262.0</td>\n",
              "      <td>500.000</td>\n",
              "      <td>1950.000</td>\n",
              "      <td>1450.000</td>\n",
              "      <td>SILVER</td>\n",
              "      <td>2.0</td>\n",
              "      <td>0.0</td>\n",
              "      <td>0.00</td>\n",
              "      <td>0.00</td>\n",
              "    </tr>\n",
              "    <tr>\n",
              "      <th>2</th>\n",
              "      <td>2021-06-30</td>\n",
              "      <td>61267321.0</td>\n",
              "      <td>supermarket</td>\n",
              "      <td>300000.0</td>\n",
              "      <td>300.000</td>\n",
              "      <td>2250.000</td>\n",
              "      <td>1750.000</td>\n",
              "      <td>SILVER</td>\n",
              "      <td>2.0</td>\n",
              "      <td>0.0</td>\n",
              "      <td>0.00</td>\n",
              "      <td>0.00</td>\n",
              "    </tr>\n",
              "    <tr>\n",
              "      <th>3</th>\n",
              "      <td>2021-07-15</td>\n",
              "      <td>61267321.0</td>\n",
              "      <td>marketplace</td>\n",
              "      <td>296215.0</td>\n",
              "      <td>296.215</td>\n",
              "      <td>2546.215</td>\n",
              "      <td>2046.215</td>\n",
              "      <td>GOLD</td>\n",
              "      <td>3.0</td>\n",
              "      <td>2.0</td>\n",
              "      <td>5924.30</td>\n",
              "      <td>5924.30</td>\n",
              "    </tr>\n",
              "    <tr>\n",
              "      <th>4</th>\n",
              "      <td>2021-07-17</td>\n",
              "      <td>61267321.0</td>\n",
              "      <td>marketplace</td>\n",
              "      <td>473361.0</td>\n",
              "      <td>473.361</td>\n",
              "      <td>3019.576</td>\n",
              "      <td>2519.576</td>\n",
              "      <td>GOLD</td>\n",
              "      <td>3.0</td>\n",
              "      <td>2.0</td>\n",
              "      <td>9467.22</td>\n",
              "      <td>9467.22</td>\n",
              "    </tr>\n",
              "  </tbody>\n",
              "</table>\n",
              "</div>"
            ],
            "text/plain": [
              "        DATE     User_id Service Group       GMV  Loyalty Points   cum_sum  \\\n",
              "0 2021-12-23  36415344.0   marketplace  360000.0         360.000  2725.770   \n",
              "1 2021-06-30  61267321.0   marketplace  607262.0         500.000  1950.000   \n",
              "2 2021-06-30  61267321.0   supermarket  300000.0         300.000  2250.000   \n",
              "3 2021-07-15  61267321.0   marketplace  296215.0         296.215  2546.215   \n",
              "4 2021-07-17  61267321.0   marketplace  473361.0         473.361  3019.576   \n",
              "\n",
              "   calculated_point Rank Name  Class ID  %cashback  cashback  real_cashback  \n",
              "0          1026.000    SILVER       2.0        0.0      0.00           0.00  \n",
              "1          1450.000    SILVER       2.0        0.0      0.00           0.00  \n",
              "2          1750.000    SILVER       2.0        0.0      0.00           0.00  \n",
              "3          2046.215      GOLD       3.0        2.0   5924.30        5924.30  \n",
              "4          2519.576      GOLD       3.0        2.0   9467.22        9467.22  "
            ]
          },
          "execution_count": 63,
          "metadata": {},
          "output_type": "execute_result"
        }
      ],
      "source": [
        "trans.head()"
      ]
    },
    {
      "cell_type": "code",
      "execution_count": null,
      "id": "548e36a6",
      "metadata": {
        "id": "548e36a6",
        "outputId": "9f234225-9621-472b-b17e-b5cb257a31a2"
      },
      "outputs": [
        {
          "data": {
            "text/html": [
              "<div>\n",
              "<style scoped>\n",
              "    .dataframe tbody tr th:only-of-type {\n",
              "        vertical-align: middle;\n",
              "    }\n",
              "\n",
              "    .dataframe tbody tr th {\n",
              "        vertical-align: top;\n",
              "    }\n",
              "\n",
              "    .dataframe thead th {\n",
              "        text-align: right;\n",
              "    }\n",
              "</style>\n",
              "<table border=\"1\" class=\"dataframe\">\n",
              "  <thead>\n",
              "    <tr style=\"text-align: right;\">\n",
              "      <th></th>\n",
              "      <th>Rank Name</th>\n",
              "      <th>Service Group</th>\n",
              "      <th>GMV</th>\n",
              "      <th>real_cashback</th>\n",
              "    </tr>\n",
              "  </thead>\n",
              "  <tbody>\n",
              "    <tr>\n",
              "      <th>0</th>\n",
              "      <td>DIAMOND</td>\n",
              "      <td>Coffee chains and Milk tea</td>\n",
              "      <td>7342773.0</td>\n",
              "      <td>0.00</td>\n",
              "    </tr>\n",
              "    <tr>\n",
              "      <th>1</th>\n",
              "      <td>DIAMOND</td>\n",
              "      <td>cvs</td>\n",
              "      <td>193049843.0</td>\n",
              "      <td>3994019.52</td>\n",
              "    </tr>\n",
              "    <tr>\n",
              "      <th>2</th>\n",
              "      <td>DIAMOND</td>\n",
              "      <td>data</td>\n",
              "      <td>10720000.0</td>\n",
              "      <td>1111640.00</td>\n",
              "    </tr>\n",
              "    <tr>\n",
              "      <th>3</th>\n",
              "      <td>DIAMOND</td>\n",
              "      <td>marketplace</td>\n",
              "      <td>618297838.0</td>\n",
              "      <td>11281258.60</td>\n",
              "    </tr>\n",
              "    <tr>\n",
              "      <th>4</th>\n",
              "      <td>DIAMOND</td>\n",
              "      <td>supermarket</td>\n",
              "      <td>138445481.0</td>\n",
              "      <td>3366798.90</td>\n",
              "    </tr>\n",
              "    <tr>\n",
              "      <th>5</th>\n",
              "      <td>GOLD</td>\n",
              "      <td>Coffee chains and Milk tea</td>\n",
              "      <td>19056083.0</td>\n",
              "      <td>0.00</td>\n",
              "    </tr>\n",
              "    <tr>\n",
              "      <th>6</th>\n",
              "      <td>GOLD</td>\n",
              "      <td>cvs</td>\n",
              "      <td>398636435.0</td>\n",
              "      <td>6358403.51</td>\n",
              "    </tr>\n",
              "    <tr>\n",
              "      <th>7</th>\n",
              "      <td>GOLD</td>\n",
              "      <td>data</td>\n",
              "      <td>53224500.0</td>\n",
              "      <td>3663715.00</td>\n",
              "    </tr>\n",
              "    <tr>\n",
              "      <th>8</th>\n",
              "      <td>GOLD</td>\n",
              "      <td>marketplace</td>\n",
              "      <td>661110916.0</td>\n",
              "      <td>10007725.02</td>\n",
              "    </tr>\n",
              "    <tr>\n",
              "      <th>9</th>\n",
              "      <td>GOLD</td>\n",
              "      <td>supermarket</td>\n",
              "      <td>201414648.0</td>\n",
              "      <td>3074623.96</td>\n",
              "    </tr>\n",
              "    <tr>\n",
              "      <th>10</th>\n",
              "      <td>SILVER</td>\n",
              "      <td>Coffee chains and Milk tea</td>\n",
              "      <td>25516750.0</td>\n",
              "      <td>0.00</td>\n",
              "    </tr>\n",
              "    <tr>\n",
              "      <th>11</th>\n",
              "      <td>SILVER</td>\n",
              "      <td>Offline Beverage</td>\n",
              "      <td>791000.0</td>\n",
              "      <td>39550.00</td>\n",
              "    </tr>\n",
              "    <tr>\n",
              "      <th>12</th>\n",
              "      <td>SILVER</td>\n",
              "      <td>cvs</td>\n",
              "      <td>393097217.0</td>\n",
              "      <td>6987722.20</td>\n",
              "    </tr>\n",
              "    <tr>\n",
              "      <th>13</th>\n",
              "      <td>SILVER</td>\n",
              "      <td>data</td>\n",
              "      <td>92517700.0</td>\n",
              "      <td>4615135.00</td>\n",
              "    </tr>\n",
              "    <tr>\n",
              "      <th>14</th>\n",
              "      <td>SILVER</td>\n",
              "      <td>marketplace</td>\n",
              "      <td>850391517.0</td>\n",
              "      <td>0.00</td>\n",
              "    </tr>\n",
              "    <tr>\n",
              "      <th>15</th>\n",
              "      <td>SILVER</td>\n",
              "      <td>supermarket</td>\n",
              "      <td>313329515.0</td>\n",
              "      <td>0.00</td>\n",
              "    </tr>\n",
              "  </tbody>\n",
              "</table>\n",
              "</div>"
            ],
            "text/plain": [
              "   Rank Name               Service Group          GMV  real_cashback\n",
              "0    DIAMOND  Coffee chains and Milk tea    7342773.0           0.00\n",
              "1    DIAMOND                         cvs  193049843.0     3994019.52\n",
              "2    DIAMOND                        data   10720000.0     1111640.00\n",
              "3    DIAMOND                 marketplace  618297838.0    11281258.60\n",
              "4    DIAMOND                 supermarket  138445481.0     3366798.90\n",
              "5       GOLD  Coffee chains and Milk tea   19056083.0           0.00\n",
              "6       GOLD                         cvs  398636435.0     6358403.51\n",
              "7       GOLD                        data   53224500.0     3663715.00\n",
              "8       GOLD                 marketplace  661110916.0    10007725.02\n",
              "9       GOLD                 supermarket  201414648.0     3074623.96\n",
              "10    SILVER  Coffee chains and Milk tea   25516750.0           0.00\n",
              "11    SILVER            Offline Beverage     791000.0       39550.00\n",
              "12    SILVER                         cvs  393097217.0     6987722.20\n",
              "13    SILVER                        data   92517700.0     4615135.00\n",
              "14    SILVER                 marketplace  850391517.0           0.00\n",
              "15    SILVER                 supermarket  313329515.0           0.00"
            ]
          },
          "execution_count": 64,
          "metadata": {},
          "output_type": "execute_result"
        }
      ],
      "source": [
        "cashback=trans.groupby(['Rank Name','Service Group'],as_index=False)[['GMV','real_cashback']].sum()\n",
        "cashback"
      ]
    },
    {
      "cell_type": "code",
      "execution_count": null,
      "id": "79ca1c2f",
      "metadata": {
        "id": "79ca1c2f",
        "outputId": "6a4b6383-2777-46bc-e44a-ecbf158081a7"
      },
      "outputs": [
        {
          "data": {
            "image/png": "[encoded data removed]",
            "text/plain": [
              "<Figure size 1440x720 with 1 Axes>"
            ]
          },
          "metadata": {
            "needs_background": "light"
          },
          "output_type": "display_data"
        }
      ],
      "source": [
        "plt.figure(figsize=(20,10))\n",
        "sns.barplot(x='Rank Name',y='real_cashback',hue='Service Group',data=cashback)\n",
        "plt.show()"
      ]
    },
    {
      "cell_type": "code",
      "execution_count": null,
      "id": "5e581aa5",
      "metadata": {
        "id": "5e581aa5",
        "outputId": "00124e49-5e63-4402-c177-b06e0876835b"
      },
      "outputs": [
        {
          "data": {
            "image/png": "[encoded data removed]",
            "text/plain": [
              "<Figure size 1440x720 with 1 Axes>"
            ]
          },
          "metadata": {
            "needs_background": "light"
          },
          "output_type": "display_data"
        }
      ],
      "source": [
        "plt.figure(figsize=(20,10))\n",
        "sns.barplot(x='Rank Name',y='GMV',hue='Service Group',data=cashback)\n",
        "plt.show()"
      ]
    },
    {
      "cell_type": "markdown",
      "id": "e0c1fac3",
      "metadata": {
        "id": "e0c1fac3"
      },
      "source": [
        "As we can see in two visualizations:\n",
        "\n",
        "> - No matter what rank of loyalty, customers spend most of their money on **marketplace and supermarket**. Hence, decreasing the **cash back percent** will be a strategy.\n",
        "\n",
        "> - On the other hand, **coffee chains and Milk tea** is a potential segment when going out for milk tea or coffee is a popular habit of people. Therefore, adding more **benefit of cash back** for this segment for all of rank will **maintain retention of customers**."
      ]
    },
    {
      "cell_type": "markdown",
      "id": "3946743d",
      "metadata": {
        "id": "3946743d"
      },
      "source": [
        "# Extended question:"
      ]
    },
    {
      "cell_type": "markdown",
      "id": "c7d42cd7",
      "metadata": {
        "id": "c7d42cd7"
      },
      "source": [
        "What ideas do you have for Momo in loyalty program development strategy?"
      ]
    },
    {
      "cell_type": "markdown",
      "id": "79ae9df1",
      "metadata": {
        "id": "79ae9df1"
      },
      "source": [
        "> - Charity services: the program which customers can exchange their **loyalty points** to contribute meaningful charity programs such as \"Trường Học cho trẻ em vùng cao\",\"Ủng hộ đồng bào lũ lụt\". Our target customer will be who love giving back to community and stimulates their power of buying when they can giving back when shopping at the same time.\n",
        "\n",
        "> - Special Events Giving: Throughout a year, on the special days, such as Momo's Birthday, there will be **big give away** (traveling tour, electronics devices, phones, tablets,etc) where the higher rank of customers the more entry tickets they will have to enter the events."
      ]
    },
    {
      "cell_type": "markdown",
      "id": "f9c9482f",
      "metadata": {
        "id": "f9c9482f"
      },
      "source": [
        "Gamification is usually a sensible option for apps to raise users’ stickiness. In our loyalty program development strategy, we also plan to hold a small game for users. The rule is simple: any users who can maintain a 20-day or longer streak of being in the DIAMOND ranking is a winner (in other words, winners are users who have total loyalty points greater than or equal to 5,000 for at least 20 consecutive days). We also want to give a special reward for the user(s) who can maintain the longest streak. Could you help us to calculate how many winners were there during the last thirty days in the given data (March 01 - March 31) and who was/were the one(s) boasting the longest streak during that time?\t\t\t\t\t\t\t\t\t\t"
      ]
    },
    {
      "cell_type": "code",
      "execution_count": null,
      "id": "1e7bd56d",
      "metadata": {
        "id": "1e7bd56d"
      },
      "outputs": [],
      "source": [
        "march_record=Loyal_Ranking[(Loyal_Ranking['DATE']<='2022-03-31')&(Loyal_Ranking['DATE']>='2022-03-01')]"
      ]
    },
    {
      "cell_type": "code",
      "execution_count": null,
      "id": "08a9fa11",
      "metadata": {
        "id": "08a9fa11",
        "outputId": "4f1c1154-8563-43d1-dc37-b8cf8b382844"
      },
      "outputs": [
        {
          "data": {
            "text/plain": [
              "23"
            ]
          },
          "execution_count": 68,
          "metadata": {},
          "output_type": "execute_result"
        }
      ],
      "source": [
        "diamond_march=march_record[march_record['Rank Name']=='DIAMOND']\n",
        "diamond_march['User_id'].nunique()"
      ]
    },
    {
      "cell_type": "code",
      "execution_count": null,
      "id": "2699cc28",
      "metadata": {
        "id": "2699cc28"
      },
      "outputs": [],
      "source": [
        "streak={}\n",
        "count=0\n",
        "for i in (diamond_march['User_id'].unique()):\n",
        "    record=diamond_march[diamond_march['User_id']==i]\n",
        "    day=(record['DATE'].max()-record['DATE'].min()).days\n",
        "    if day>=20: count+=1\n",
        "    streak[i]=day"
      ]
    },
    {
      "cell_type": "code",
      "execution_count": null,
      "id": "75b71295",
      "metadata": {
        "id": "75b71295",
        "outputId": "006ec2fb-9b27-4041-ba05-9dfbcced378e"
      },
      "outputs": [
        {
          "data": {
            "text/plain": [
              "{39619396.0: 7,\n",
              " 44119627.0: 1,\n",
              " 45426067.0: 13,\n",
              " 25993024.0: 7,\n",
              " 50185392.0: 24,\n",
              " 31244414.0: 1,\n",
              " 12229364.0: 10,\n",
              " 35461466.0: 0,\n",
              " 47662326.0: 30,\n",
              " 39956101.0: 8,\n",
              " 43160536.0: 20,\n",
              " 39314846.0: 30,\n",
              " 55443594.0: 7,\n",
              " 44850195.0: 2,\n",
              " 55200938.0: 30,\n",
              " 43933779.0: 9,\n",
              " 57207697.0: 30,\n",
              " 54960619.0: 11,\n",
              " 44901759.0: 7,\n",
              " 51432947.0: 27,\n",
              " 36884902.0: 20,\n",
              " 54788782.0: 1,\n",
              " 49689927.0: 14}"
            ]
          },
          "execution_count": 70,
          "metadata": {},
          "output_type": "execute_result"
        }
      ],
      "source": [
        "streak"
      ]
    },
    {
      "cell_type": "code",
      "execution_count": null,
      "id": "1a8b3967",
      "metadata": {
        "id": "1a8b3967",
        "outputId": "ca1f4aed-a5bf-402f-e251-275c6d3026d6"
      },
      "outputs": [
        {
          "name": "stdout",
          "output_type": "stream",
          "text": [
            "There were 8 winners during the last thirty days in the given data\n"
          ]
        }
      ],
      "source": [
        "print(f'There were {count} winners during the last thirty days in the given data')"
      ]
    },
    {
      "cell_type": "code",
      "execution_count": null,
      "id": "9a771e10",
      "metadata": {
        "id": "9a771e10",
        "outputId": "5897895b-0b21-423e-9897-95e87ce77eb9"
      },
      "outputs": [
        {
          "name": "stdout",
          "output_type": "stream",
          "text": [
            "47662326, 39314846, 57207697 are the one(s) boasting the longest streak during that time with 30 days\n"
          ]
        }
      ],
      "source": [
        " print('47662326, 39314846, 57207697 are the one(s) boasting the longest streak during that time with 30 days')"
      ]
    },
    {
      "cell_type": "markdown",
      "id": "ed61290d",
      "metadata": {
        "id": "ed61290d"
      },
      "source": [
        "# Conclusion:"
      ]
    },
    {
      "cell_type": "markdown",
      "id": "507c9a07",
      "metadata": {
        "id": "507c9a07"
      },
      "source": [
        "> - There are total **124** users achieved **GOLD** at the end of March 2022\n",
        "> - Total cashback on Feb 2022 is **4350391**\n",
        "> - Class ID of **2 (Silver) is a critical class** which will determine whether the customer will maintain and push for higher class.\n",
        "> - As the customers reach the high class (Gold and Diamond), where they have lots of benefit, they tend to **maintain their class(retention)**.(up-down is maintained around class ID of 3 and 4 once they reach there).\n",
        "> - On the other hand, customers who have **class of 1(Standard)** seem do not care a lot about the **Loyalty program** and just purchase when needed. (lots of unpredictable up-down pattern on Standard and Silver Batch).\n",
        "> - The strategy that marketing team can take is: **strongly focus pushing marketing ads and promotion to stimulate the power of buying when customers reach Class ID of 2(Silver)**.\n",
        "> - No matter what rank of loyalty, customers spend most of their money on **marketplace and supermarket**. Hence, decreasing the **cash back percent** will be a strategy.\n",
        "> - On the other hand, **coffee chains and Milk tea** is a potential segment when going out for milk tea or coffee is a popular habit of people. Therefore, adding more **benefit of cash back** for this segment for all of rank will **maintain retention of customers**.\n",
        "\n",
        "Development strategies:\n",
        "\n",
        "> - Charity services: the program which customers can exchange their **loyalty points** to contribute meaningful charity programs such as \"Trường Học cho trẻ em vùng cao\",\"Ủng hộ đồng bào lũ lụt\". Our target customer will be who love giving back to community and stimulates their power of buying when they can giving back when shopping at the same time.\n",
        "> - Special Events Giving: Throughout a year, on the special days, such as Momo's Birthday, there will be **big give away** (traveling tour, electronics devices, phones, tablets,etc) where the higher rank of customers the more entry tickets they will have to enter the events.\n",
        "\n",
        "> - There were 8 winners during the last thirty days in the given data (hold the DIAMOND at least 20 days)\n",
        "> - 47662326, 39314846, 57207697 are the one(s) boasting the longest streak during that time with 30 days\n"
      ]
    },
    {
      "cell_type": "code",
      "execution_count": null,
      "id": "5d518757",
      "metadata": {
        "id": "5d518757"
      },
      "outputs": [],
      "source": [
        ""
      ]
    }
  ],
  "metadata": {
    "kernelspec": {
      "display_name": "Python 3 (ipykernel)",
      "language": "python",
      "name": "python3"
    },
    "language_info": {
      "codemirror_mode": {
        "name": "ipython",
        "version": 3
      },
      "file_extension": ".py",
      "mimetype": "text/x-python",
      "name": "python",
      "nbconvert_exporter": "python",
      "pygments_lexer": "ipython3",
      "version": "3.9.7"
    },
    "colab": {
      "name": "2022 Case Challenge.ipynb",
      "provenance": [],
      "include_colab_link": true
    }
  },
  "nbformat": 4,
  "nbformat_minor": 5
}